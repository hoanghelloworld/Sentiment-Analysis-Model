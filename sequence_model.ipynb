{
  "cells": [
    {
      "cell_type": "code",
      "execution_count": null,
      "metadata": {
        "colab": {
          "base_uri": "https://localhost:8080/"
        },
        "id": "awO1rLqiHkWC",
        "outputId": "a9dafa98-475f-4b5c-b564-0f3fd1e0568f"
      },
      "outputs": [
        {
          "output_type": "stream",
          "name": "stdout",
          "text": [
            "Imports successful!\n"
          ]
        }
      ],
      "source": [
        "import numpy as np\n",
        "import tensorflow as tf\n",
        "import pandas as pd\n",
        "from tensorflow.keras.preprocessing.text import Tokenizer\n",
        "from tensorflow.keras import layers\n",
        "from tensorflow.keras import losses\n",
        "import re\n",
        "import string\n",
        "import matplotlib.pyplot as plt\n",
        "\n",
        "print(\"Imports successful!\")"
      ]
    },
    {
      "cell_type": "code",
      "execution_count": null,
      "metadata": {
        "id": "cdVDjjDUHVal"
      },
      "outputs": [],
      "source": [
        "import zipfile\n",
        "with zipfile.ZipFile('/content/drive/MyDrive/dsaa-6100-movie-review-classification.zip', 'r') as zip_ref:\n",
        "    zip_ref.extractall()"
      ]
    },
    {
      "cell_type": "code",
      "execution_count": null,
      "metadata": {
        "id": "LDRZcfXDHJpG"
      },
      "outputs": [],
      "source": [
        "\n",
        "import pandas as pd\n",
        "from sklearn.model_selection import train_test_split\n",
        "\n",
        "# Đọc dữ liệu từ tệp CSV\n",
        "data = pd.read_csv('movie_reviews/movie_reviews.csv')\n",
        "\n",
        "# Tạo tập dữ liệu TensorFlow từ tập huấn luyện và tập kiểm tra\n",
        "train_dataset = tf.data.Dataset.from_tensor_slices((data['text'].values, data['label'].values))\n",
        "\n",
        "# Xáo trộn và đóng gói dữ liệu\n",
        "BUFFER_SIZE = 40000\n",
        "BATCH_SIZE = 8192\n",
        "\n",
        "train_dataset = train_dataset.shuffle(BUFFER_SIZE).batch(BATCH_SIZE).prefetch(tf.data.AUTOTUNE)\n"
      ]
    },
    {
      "cell_type": "code",
      "execution_count": null,
      "metadata": {
        "colab": {
          "base_uri": "https://localhost:8080/"
        },
        "id": "5S7YvmhYLaG-",
        "outputId": "9f90ad60-c8ce-4c39-db35-dbb63be19cfb"
      },
      "outputs": [
        {
          "output_type": "stream",
          "name": "stdout",
          "text": [
            "Text:\n",
            " b'Thats right you heard me this movie is a freaking ABOMINATION First off the band who the hell is going to go see or listen to a band called THE NAKED BROTHERS BAND Not only is the name terrible but so are the musicians they cant even play anything Also the lead singer sounds more girly than Geddy Lee and even more his voice is horrible Not only are they terrible musicians but theyre terrible actors Led by a crappy director and thin plot this has got to be the dumbest movie ever I wish this website would let you use a vote of ZERO OR BELOW out of 10 because giving this filth a 110 is being WAY too generous Im not sure that you can call this a comedy film If youre looking for comedy with music go to that Weird Al Yankovic guy cause he does it a whole lot better than these untalented tweens'\n",
            "Label: 0\n",
            "\n",
            "Text:\n",
            " b'This has been put out on the DVD market by Alpha and its for diehard Boris Karloff fans like moi only Its not a horror flick but a drama where Boris is a struggling scientist agreeing to kill a wealthy womans husband in order to gain the fortune needed to continue with his work But once the dying victim changes his will and leaves his spouse nothing all hell breaks loose Its appeasing enough seeing Karloff as another selfish sinister type and some of the acting is unintentionally hilarious especially from the leading lady Mona Goya who is absolutely a laugh riot as the doublecrossed wife But proceed with much caution'\n",
            "Label: 0\n",
            "\n",
            "Text:\n",
            " b'This typically melodramatic Bollywood film has inexplicably become a favorite of Western critics The script is ludicrous the acting is overthetop and it looks cheesy The only reasons for watching this soap opera are the wonderful songs sung by Mangeshkar and the curtain call of the legendary Meena Kumari Watching the actress who was ill during the filming and would drink herself to death at age 40 shortly after the film was released has the same fascination as watching a train wreck Her exhusband Amrohi wrote and directed but lacks the competency to execute either task well Bollywood has produced far better films'\n",
            "Label: 0\n",
            "\n"
          ]
        }
      ],
      "source": [
        "# Take one batch from the dataset and print out the first three datapoints in the batch\n",
        "for text_batch, label_batch in train_dataset.take(1):\n",
        "    for i in range(3):\n",
        "        print(f\"Text:\\n {text_batch.numpy()[i]}\")\n",
        "        print(f\"Label: {label_batch.numpy()[i]}\\n\")"
      ]
    },
    {
      "cell_type": "code",
      "execution_count": null,
      "metadata": {
        "id": "21pLSNb-M0O7"
      },
      "outputs": [],
      "source": [
        "# Set the maximum number of words\n",
        "max_features = 40000\n",
        "# Define the custom standardization function\n",
        "def custom_standardization(input_data):\n",
        "    # Convert all text to lowercase\n",
        "    lowercase = tf.strings.lower(input_data)\n",
        "    # Remove HTML tags\n",
        "    stripped_html = tf.strings.regex_replace(lowercase, '<br />', ' ')\n",
        "    # Remove punctuation\n",
        "    replaced = tf.strings.regex_replace(\n",
        "        stripped_html,\n",
        "        '[%s]' % re.escape(string.punctuation),\n",
        "        ''\n",
        "        )\n",
        "    replaced = tf.strings.regex_replace(replaced, '\\$\\w*', '')\n",
        "    replaced = tf.strings.regex_replace(replaced, '^RT[\\s]+', '')\n",
        "    replaced = tf.strings.regex_replace(replaced, 'https?:\\/\\/.*[\\r\\n]*', '')\n",
        "    replaced = tf.strings.regex_replace(replaced, '#', '')\n",
        "    return replaced\n",
        "\n",
        "# Create a layer that you can use to convert text to vectors\n",
        "vectorize_layer = layers.TextVectorization(\n",
        "    standardize=custom_standardization,\n",
        "    max_tokens=max_features,\n",
        "    output_mode='int',\n",
        "    output_sequence_length=250)"
      ]
    },
    {
      "cell_type": "code",
      "execution_count": null,
      "metadata": {
        "colab": {
          "base_uri": "https://localhost:8080/"
        },
        "id": "FD4IaE-KM4Vb",
        "outputId": "bc20ace2-acbd-4668-9f80-1f906070987e"
      },
      "outputs": [
        {
          "output_type": "stream",
          "name": "stdout",
          "text": [
            "Vocabulary size: 40000\n"
          ]
        }
      ],
      "source": [
        "# Build the vocabulary\n",
        "train_text = train_dataset.map(lambda x, y: x)\n",
        "vectorize_layer.adapt(train_text)\n",
        "\n",
        "# Print out the vocabulary size\n",
        "print(f\"Vocabulary size: {len(vectorize_layer.get_vocabulary())}\")"
      ]
    },
    {
      "cell_type": "code",
      "source": [
        "vectorize_layer.get_vocabulary()[32744]"
      ],
      "metadata": {
        "colab": {
          "base_uri": "https://localhost:8080/",
          "height": 36
        },
        "id": "P4IzimPTYjK7",
        "outputId": "a5e5f798-53f5-40a2-dfa8-3c6fb5f7eb75"
      },
      "execution_count": null,
      "outputs": [
        {
          "output_type": "execute_result",
          "data": {
            "text/plain": [
              "'smallish'"
            ],
            "application/vnd.google.colaboratory.intrinsic+json": {
              "type": "string"
            }
          },
          "metadata": {},
          "execution_count": 7
        }
      ]
    },
    {
      "cell_type": "code",
      "execution_count": null,
      "metadata": {
        "colab": {
          "base_uri": "https://localhost:8080/"
        },
        "id": "CPPnU4AmM-Dg",
        "outputId": "ec280054-1384-4e0c-e6a3-30f73284f764"
      },
      "outputs": [
        {
          "output_type": "stream",
          "name": "stdout",
          "text": [
            "Review:\n",
            "b'Despite its budget limitations this is a great film proof that effort and imagination can overcome lack of cash The opening in which cavepaintings seem to show how some dinosaurs at least survived into the age of human beings is a nice red herring After that a meteor comes down into a lake and causes heat which in turn causes the hatching of a frozen dinosaur egg maybe the cavepaintings suggest instead that this isnt the first time such a thing has happened When the prehistoric beast appears its a wellanimated Plesiosaur which is soon causing disappearances in the local area Alright so its not Jurassic Park but its still genuine entertainment for fans of monster movies'\n",
            "\n",
            "Label: 1\n",
            "\n",
            "Vectorized review\n",
            "(<tf.Tensor: shape=(1, 250), dtype=int64, numpy=\n",
            "array([[  461,    29,   396,  5798,    11,     7,     4,    80,    19,\n",
            "         3025,    12,   782,     3,  1585,    68,  3161,   577,     5,\n",
            "         2157,     2,   607,     8,    62,     1,   303,     6,   118,\n",
            "           85,    46,  3637,    30,   220,  4279,    82,     2,   634,\n",
            "            5,   394,  3157,     7,     4,   319,   857, 13839,   101,\n",
            "           12,     4,  7050,   263,   181,    82,     4,  2319,     3,\n",
            "         2706,  3518,    62,     8,   479,  2706,     2, 31270,     5,\n",
            "            4,  5696,  4397,  6586,   275,     2,     1,  1410,   296,\n",
            "           12,    11,   203,     2,    87,    57,   136,     4,   146,\n",
            "           45,   595,    50,     2,  9103,  2872,   713,    29,     4,\n",
            "            1, 33136,    62,     7,   532,  3713, 21566,     8,     2,\n",
            "          674,  1559,  2540,    37,    29,    21,  7117,  1214,    18,\n",
            "           29,   126,  1943,   719,    15,   450,     5,   785,    91,\n",
            "            0,     0,     0,     0,     0,     0,     0,     0,     0,\n",
            "            0,     0,     0,     0,     0,     0,     0,     0,     0,\n",
            "            0,     0,     0,     0,     0,     0,     0,     0,     0,\n",
            "            0,     0,     0,     0,     0,     0,     0,     0,     0,\n",
            "            0,     0,     0,     0,     0,     0,     0,     0,     0,\n",
            "            0,     0,     0,     0,     0,     0,     0,     0,     0,\n",
            "            0,     0,     0,     0,     0,     0,     0,     0,     0,\n",
            "            0,     0,     0,     0,     0,     0,     0,     0,     0,\n",
            "            0,     0,     0,     0,     0,     0,     0,     0,     0,\n",
            "            0,     0,     0,     0,     0,     0,     0,     0,     0,\n",
            "            0,     0,     0,     0,     0,     0,     0,     0,     0,\n",
            "            0,     0,     0,     0,     0,     0,     0,     0,     0,\n",
            "            0,     0,     0,     0,     0,     0,     0,     0,     0,\n",
            "            0,     0,     0,     0,     0,     0,     0,     0,     0,\n",
            "            0,     0,     0,     0,     0,     0,     0]])>, <tf.Tensor: shape=(), dtype=int64, numpy=1>)\n"
          ]
        }
      ],
      "source": [
        "# Define the final function that you will use to vectorize the text.\n",
        "def vectorize_text(text, label):\n",
        "    text = tf.expand_dims(text, -1)\n",
        "    return vectorize_layer(text), label\n",
        "\n",
        "# Get one batch and select the first datapoint\n",
        "text_batch, label_batch = next(iter(train_dataset))\n",
        "first_review, first_label = text_batch[0], label_batch[0]\n",
        "\n",
        "# Show the raw data\n",
        "print(f\"Review:\\n{first_review}\")\n",
        "print(f\"\\nLabel: {first_label}\")\n",
        "# Show the vectorized data\n",
        "print(f\"\\nVectorized review\\n{vectorize_text(first_review, first_label)}\")"
      ]
    },
    {
      "cell_type": "code",
      "execution_count": null,
      "metadata": {
        "id": "rDKkjVFdQBO7"
      },
      "outputs": [],
      "source": [
        "train_ds = train_dataset.map(vectorize_text)"
      ]
    },
    {
      "cell_type": "code",
      "execution_count": null,
      "metadata": {
        "id": "BM9a0s5YQEno"
      },
      "outputs": [],
      "source": [
        "AUTOTUNE = tf.data.AUTOTUNE\n",
        "\n",
        "train_ds = train_ds.cache().prefetch(buffer_size=AUTOTUNE)"
      ]
    },
    {
      "cell_type": "markdown",
      "source": [
        "# **Mô hình neural network cơ bản(Simple Sequence Model)**"
      ],
      "metadata": {
        "id": "aBOCUtDC7jjf"
      }
    },
    {
      "cell_type": "code",
      "source": [
        "embedding_dim = 16\n",
        "\n",
        "\n",
        "model = tf.keras.Sequential([\n",
        "    layers.Embedding(max_features, embedding_dim),\n",
        "    layers.GlobalAveragePooling1D(),\n",
        "    layers.Dense(embedding_dim, activation='PReLU'),\n",
        "    layers.Dense(1, activation='sigmoid')\n",
        "])\n",
        "\n",
        "# Biên dịch mô hình\n",
        "model.compile(loss=losses.BinaryCrossentropy(from_logits=False),\n",
        "              optimizer='adam',\n",
        "              metrics=['accuracy'])\n",
        "\n",
        "# In ra thông tin tổng quan của mô hình\n",
        "model.summary()\n"
      ],
      "metadata": {
        "colab": {
          "base_uri": "https://localhost:8080/"
        },
        "id": "plSG_A1pBeX0",
        "outputId": "5f75fe0f-ce39-4363-cd20-d5ecb30add10"
      },
      "execution_count": null,
      "outputs": [
        {
          "output_type": "stream",
          "name": "stdout",
          "text": [
            "Model: \"sequential\"\n",
            "_________________________________________________________________\n",
            " Layer (type)                Output Shape              Param #   \n",
            "=================================================================\n",
            " embedding (Embedding)       (None, None, 16)          640000    \n",
            "                                                                 \n",
            " global_average_pooling1d (G  (None, 16)               0         \n",
            " lobalAveragePooling1D)                                          \n",
            "                                                                 \n",
            " dense (Dense)               (None, 16)                288       \n",
            "                                                                 \n",
            " dense_1 (Dense)             (None, 1)                 17        \n",
            "                                                                 \n",
            "=================================================================\n",
            "Total params: 640,305\n",
            "Trainable params: 640,305\n",
            "Non-trainable params: 0\n",
            "_________________________________________________________________\n"
          ]
        }
      ]
    },
    {
      "cell_type": "code",
      "source": [
        "# Huấn luyện mô hình\n",
        "epochs = 150\n",
        "history = model.fit(\n",
        "    train_ds,\n",
        "    epochs=epochs,\n",
        "    verbose=2\n",
        ")"
      ],
      "metadata": {
        "id": "gufA546-yxM4"
      },
      "execution_count": null,
      "outputs": []
    },
    {
      "cell_type": "code",
      "source": [
        "def plot_metrics(history, metric):\n",
        "    plt.plot(history.history[metric])\n",
        "    plt.xlabel(\"Epochs\")\n",
        "    plt.ylabel(metric.title())\n",
        "    plt.show()\n",
        "\n",
        "plot_metrics(history, \"accuracy\")\n",
        "plot_metrics(history, \"loss\")"
      ],
      "metadata": {
        "id": "suRQd1gpcpyY",
        "colab": {
          "base_uri": "https://localhost:8080/",
          "height": 881
        },
        "outputId": "8da21f52-fca5-453c-fd9d-87466ec5aabf"
      },
      "execution_count": null,
      "outputs": [
        {
          "output_type": "display_data",
          "data": {
            "text/plain": [
              "<Figure size 640x480 with 1 Axes>"
            ],
            "image/png": "[encoded data removed]"
          },
          "metadata": {}
        },
        {
          "output_type": "display_data",
          "data": {
            "text/plain": [
              "<Figure size 640x480 with 1 Axes>"
            ],
            "image/png": "[encoded data removed]"
          },
          "metadata": {}
        }
      ]
    },
    {
      "cell_type": "markdown",
      "source": [
        "# **Mô hình simple RNN**"
      ],
      "metadata": {
        "id": "4OcX2XSx71Hc"
      }
    },
    {
      "cell_type": "code",
      "source": [
        "embedding_dim = 16\n",
        "\n",
        "\n",
        "model_simple_RNN = tf.keras.Sequential([\n",
        "    layers.Embedding(max_features, embedding_dim),\n",
        "    layers.SimpleRNN(32,activation='tanh',return_sequences=False),\n",
        "    layers.Dense(1, activation='sigmoid')\n",
        "])\n",
        "\n",
        "# Biên dịch mô hình\n",
        "model_simple_RNN.compile(loss=losses.BinaryCrossentropy(from_logits=False),\n",
        "              optimizer='adam',\n",
        "              metrics=['accuracy'])\n",
        "\n",
        "# In ra thông tin tổng quan của mô hình\n",
        "model_simple_RNN.summary()"
      ],
      "metadata": {
        "colab": {
          "base_uri": "https://localhost:8080/"
        },
        "id": "oRZHZgfeO27R",
        "outputId": "f6e7a93c-c7b3-4925-a3ee-926a7e2e7d7c"
      },
      "execution_count": null,
      "outputs": [
        {
          "output_type": "stream",
          "name": "stdout",
          "text": [
            "Model: \"sequential_5\"\n",
            "_________________________________________________________________\n",
            " Layer (type)                Output Shape              Param #   \n",
            "=================================================================\n",
            " embedding_4 (Embedding)     (None, None, 16)          640000    \n",
            "                                                                 \n",
            " simple_rnn_3 (SimpleRNN)    (None, 32)                1568      \n",
            "                                                                 \n",
            " dense_5 (Dense)             (None, 1)                 33        \n",
            "                                                                 \n",
            "=================================================================\n",
            "Total params: 641,601\n",
            "Trainable params: 641,601\n",
            "Non-trainable params: 0\n",
            "_________________________________________________________________\n"
          ]
        }
      ]
    },
    {
      "cell_type": "code",
      "execution_count": null,
      "metadata": {
        "colab": {
          "base_uri": "https://localhost:8080/"
        },
        "id": "s3Oh9_fYQXtn",
        "outputId": "72db8e94-3e7d-475f-9b79-39be3cdaf94e"
      },
      "outputs": [
        {
          "output_type": "stream",
          "name": "stdout",
          "text": [
            "Epoch 1/75\n",
            "5/5 - 9s - loss: 0.6952 - accuracy: 0.4981 - 9s/epoch - 2s/step\n",
            "Epoch 2/75\n",
            "5/5 - 10s - loss: 0.6874 - accuracy: 0.5468 - 10s/epoch - 2s/step\n",
            "Epoch 3/75\n",
            "5/5 - 10s - loss: 0.6766 - accuracy: 0.5873 - 10s/epoch - 2s/step\n",
            "Epoch 4/75\n",
            "5/5 - 7s - loss: 0.6599 - accuracy: 0.6274 - 7s/epoch - 1s/step\n",
            "Epoch 5/75\n",
            "5/5 - 9s - loss: 0.6377 - accuracy: 0.6716 - 9s/epoch - 2s/step\n",
            "Epoch 6/75\n",
            "5/5 - 12s - loss: 0.6165 - accuracy: 0.7032 - 12s/epoch - 2s/step\n",
            "Epoch 7/75\n",
            "5/5 - 10s - loss: 0.6120 - accuracy: 0.7145 - 10s/epoch - 2s/step\n",
            "Epoch 8/75\n",
            "5/5 - 15s - loss: 0.5985 - accuracy: 0.7258 - 15s/epoch - 3s/step\n",
            "Epoch 9/75\n",
            "5/5 - 7s - loss: 0.5495 - accuracy: 0.8086 - 7s/epoch - 1s/step\n",
            "Epoch 10/75\n",
            "5/5 - 10s - loss: 0.5164 - accuracy: 0.8248 - 10s/epoch - 2s/step\n",
            "Epoch 11/75\n",
            "5/5 - 7s - loss: 0.4998 - accuracy: 0.8437 - 7s/epoch - 1s/step\n",
            "Epoch 12/75\n",
            "5/5 - 7s - loss: 0.4583 - accuracy: 0.8699 - 7s/epoch - 1s/step\n",
            "Epoch 13/75\n",
            "5/5 - 11s - loss: 0.4150 - accuracy: 0.8983 - 11s/epoch - 2s/step\n",
            "Epoch 14/75\n",
            "5/5 - 7s - loss: 0.3862 - accuracy: 0.9131 - 7s/epoch - 1s/step\n",
            "Epoch 15/75\n",
            "5/5 - 10s - loss: 0.3501 - accuracy: 0.9302 - 10s/epoch - 2s/step\n",
            "Epoch 16/75\n",
            "5/5 - 7s - loss: 0.3162 - accuracy: 0.9426 - 7s/epoch - 1s/step\n",
            "Epoch 17/75\n",
            "5/5 - 9s - loss: 0.2913 - accuracy: 0.9473 - 9s/epoch - 2s/step\n",
            "Epoch 18/75\n",
            "5/5 - 8s - loss: 0.2928 - accuracy: 0.9364 - 8s/epoch - 2s/step\n",
            "Epoch 19/75\n",
            "5/5 - 7s - loss: 0.2596 - accuracy: 0.9602 - 7s/epoch - 1s/step\n",
            "Epoch 20/75\n",
            "5/5 - 9s - loss: 0.2410 - accuracy: 0.9603 - 9s/epoch - 2s/step\n",
            "Epoch 21/75\n",
            "5/5 - 9s - loss: 0.2399 - accuracy: 0.9600 - 9s/epoch - 2s/step\n",
            "Epoch 22/75\n",
            "5/5 - 7s - loss: 0.2129 - accuracy: 0.9722 - 7s/epoch - 1s/step\n",
            "Epoch 23/75\n",
            "5/5 - 9s - loss: 0.2363 - accuracy: 0.9532 - 9s/epoch - 2s/step\n",
            "Epoch 24/75\n",
            "5/5 - 10s - loss: 0.3335 - accuracy: 0.9000 - 10s/epoch - 2s/step\n",
            "Epoch 25/75\n",
            "5/5 - 8s - loss: 0.3026 - accuracy: 0.9270 - 8s/epoch - 2s/step\n",
            "Epoch 26/75\n",
            "5/5 - 9s - loss: 0.2727 - accuracy: 0.9376 - 9s/epoch - 2s/step\n",
            "Epoch 27/75\n",
            "5/5 - 10s - loss: 0.2577 - accuracy: 0.9457 - 10s/epoch - 2s/step\n",
            "Epoch 28/75\n",
            "5/5 - 7s - loss: 0.2560 - accuracy: 0.9441 - 7s/epoch - 1s/step\n",
            "Epoch 29/75\n",
            "5/5 - 9s - loss: 0.2407 - accuracy: 0.9492 - 9s/epoch - 2s/step\n",
            "Epoch 30/75\n",
            "5/5 - 10s - loss: 0.2344 - accuracy: 0.9515 - 10s/epoch - 2s/step\n",
            "Epoch 31/75\n",
            "5/5 - 7s - loss: 0.2459 - accuracy: 0.9449 - 7s/epoch - 1s/step\n",
            "Epoch 32/75\n",
            "5/5 - 10s - loss: 0.3409 - accuracy: 0.8627 - 10s/epoch - 2s/step\n",
            "Epoch 33/75\n",
            "5/5 - 9s - loss: 0.4683 - accuracy: 0.7824 - 9s/epoch - 2s/step\n",
            "Epoch 34/75\n",
            "5/5 - 7s - loss: 0.4325 - accuracy: 0.8069 - 7s/epoch - 1s/step\n",
            "Epoch 35/75\n",
            "5/5 - 9s - loss: 0.3603 - accuracy: 0.8685 - 9s/epoch - 2s/step\n",
            "Epoch 36/75\n",
            "5/5 - 9s - loss: 0.3331 - accuracy: 0.8838 - 9s/epoch - 2s/step\n",
            "Epoch 37/75\n",
            "5/5 - 7s - loss: 0.2948 - accuracy: 0.9182 - 7s/epoch - 1s/step\n",
            "Epoch 38/75\n",
            "5/5 - 10s - loss: 0.2660 - accuracy: 0.9348 - 10s/epoch - 2s/step\n",
            "Epoch 39/75\n",
            "5/5 - 9s - loss: 0.2352 - accuracy: 0.9482 - 9s/epoch - 2s/step\n",
            "Epoch 40/75\n",
            "5/5 - 7s - loss: 0.2014 - accuracy: 0.9631 - 7s/epoch - 1s/step\n",
            "Epoch 41/75\n",
            "5/5 - 9s - loss: 0.1651 - accuracy: 0.9730 - 9s/epoch - 2s/step\n",
            "Epoch 42/75\n",
            "5/5 - 10s - loss: 0.1358 - accuracy: 0.9819 - 10s/epoch - 2s/step\n",
            "Epoch 43/75\n",
            "5/5 - 7s - loss: 0.1214 - accuracy: 0.9860 - 7s/epoch - 1s/step\n",
            "Epoch 44/75\n",
            "5/5 - 10s - loss: 0.1046 - accuracy: 0.9896 - 10s/epoch - 2s/step\n",
            "Epoch 45/75\n",
            "5/5 - 7s - loss: 0.0933 - accuracy: 0.9924 - 7s/epoch - 1s/step\n",
            "Epoch 46/75\n",
            "5/5 - 10s - loss: 0.0846 - accuracy: 0.9943 - 10s/epoch - 2s/step\n",
            "Epoch 47/75\n",
            "5/5 - 8s - loss: 0.0773 - accuracy: 0.9959 - 8s/epoch - 2s/step\n",
            "Epoch 48/75\n",
            "5/5 - 7s - loss: 0.0717 - accuracy: 0.9966 - 7s/epoch - 1s/step\n",
            "Epoch 49/75\n",
            "5/5 - 10s - loss: 0.0662 - accuracy: 0.9970 - 10s/epoch - 2s/step\n",
            "Epoch 50/75\n",
            "5/5 - 7s - loss: 0.0622 - accuracy: 0.9975 - 7s/epoch - 1s/step\n",
            "Epoch 51/75\n",
            "5/5 - 8s - loss: 0.0581 - accuracy: 0.9979 - 8s/epoch - 2s/step\n",
            "Epoch 52/75\n",
            "5/5 - 10s - loss: 0.0551 - accuracy: 0.9980 - 10s/epoch - 2s/step\n",
            "Epoch 53/75\n",
            "5/5 - 8s - loss: 0.0526 - accuracy: 0.9982 - 8s/epoch - 2s/step\n",
            "Epoch 54/75\n",
            "5/5 - 10s - loss: 0.0506 - accuracy: 0.9983 - 10s/epoch - 2s/step\n",
            "Epoch 55/75\n",
            "5/5 - 8s - loss: 0.0480 - accuracy: 0.9984 - 8s/epoch - 2s/step\n",
            "Epoch 56/75\n",
            "5/5 - 8s - loss: 0.0454 - accuracy: 0.9985 - 8s/epoch - 2s/step\n",
            "Epoch 57/75\n",
            "5/5 - 10s - loss: 0.0444 - accuracy: 0.9984 - 10s/epoch - 2s/step\n",
            "Epoch 58/75\n",
            "5/5 - 8s - loss: 0.0424 - accuracy: 0.9987 - 8s/epoch - 2s/step\n",
            "Epoch 59/75\n",
            "5/5 - 9s - loss: 0.0390 - accuracy: 0.9988 - 9s/epoch - 2s/step\n",
            "Epoch 60/75\n",
            "5/5 - 10s - loss: 0.0379 - accuracy: 0.9988 - 10s/epoch - 2s/step\n",
            "Epoch 61/75\n",
            "5/5 - 7s - loss: 0.0352 - accuracy: 0.9991 - 7s/epoch - 1s/step\n",
            "Epoch 62/75\n",
            "5/5 - 9s - loss: 0.0328 - accuracy: 0.9992 - 9s/epoch - 2s/step\n",
            "Epoch 63/75\n",
            "5/5 - 10s - loss: 0.0309 - accuracy: 0.9994 - 10s/epoch - 2s/step\n",
            "Epoch 64/75\n",
            "5/5 - 8s - loss: 0.0291 - accuracy: 0.9995 - 8s/epoch - 2s/step\n",
            "Epoch 65/75\n",
            "5/5 - 8s - loss: 0.0276 - accuracy: 0.9996 - 8s/epoch - 2s/step\n",
            "Epoch 66/75\n",
            "5/5 - 10s - loss: 0.0263 - accuracy: 0.9995 - 10s/epoch - 2s/step\n",
            "Epoch 67/75\n",
            "5/5 - 14s - loss: 0.0251 - accuracy: 0.9997 - 14s/epoch - 3s/step\n",
            "Epoch 68/75\n",
            "5/5 - 9s - loss: 0.0241 - accuracy: 0.9997 - 9s/epoch - 2s/step\n",
            "Epoch 69/75\n",
            "5/5 - 8s - loss: 0.0231 - accuracy: 0.9997 - 8s/epoch - 2s/step\n",
            "Epoch 70/75\n",
            "5/5 - 10s - loss: 0.0225 - accuracy: 0.9997 - 10s/epoch - 2s/step\n",
            "Epoch 71/75\n",
            "5/5 - 9s - loss: 0.0230 - accuracy: 0.9994 - 9s/epoch - 2s/step\n",
            "Epoch 72/75\n",
            "5/5 - 8s - loss: 0.0227 - accuracy: 0.9995 - 8s/epoch - 2s/step\n",
            "Epoch 73/75\n",
            "5/5 - 10s - loss: 0.0221 - accuracy: 0.9995 - 10s/epoch - 2s/step\n",
            "Epoch 74/75\n",
            "5/5 - 9s - loss: 0.0213 - accuracy: 0.9997 - 9s/epoch - 2s/step\n",
            "Epoch 75/75\n",
            "5/5 - 8s - loss: 0.0203 - accuracy: 0.9996 - 8s/epoch - 2s/step\n"
          ]
        }
      ],
      "source": [
        "# Huấn luyện mô hình\n",
        "epochs = 75\n",
        "history = model_simple_RNN.fit(\n",
        "    train_ds,\n",
        "    epochs=epochs,\n",
        "    verbose=2\n",
        ")"
      ]
    },
    {
      "cell_type": "code",
      "source": [
        "# Make a new sequential model using the vectorization layer and the model you just trained.\n",
        "export_model = tf.keras.Sequential([\n",
        "  vectorize_layer,\n",
        "  model_simple_RNN]\n",
        ")\n",
        "\n",
        "# Compile the model\n",
        "export_model.compile(\n",
        "    loss=losses.BinaryCrossentropy(from_logits=False), optimizer=\"adam\", metrics=['accuracy']\n",
        ")"
      ],
      "metadata": {
        "id": "yw89JcHMH1qL"
      },
      "execution_count": null,
      "outputs": []
    },
    {
      "cell_type": "markdown",
      "source": [
        "# **Mô hình GRU**"
      ],
      "metadata": {
        "id": "sJ-xYkUb774M"
      }
    },
    {
      "cell_type": "code",
      "source": [
        "embedding_dim = 16\n",
        "\n",
        "\n",
        "model_GRU = tf.keras.Sequential([\n",
        "    layers.Embedding(max_features, embedding_dim),\n",
        "    layers.GRU(32,activation='tanh',return_sequences=False),\n",
        "    layers.Dense(1, activation='sigmoid')\n",
        "])\n",
        "\n",
        "# Biên dịch mô hình\n",
        "model_GRU.compile(loss=losses.BinaryCrossentropy(from_logits=False),\n",
        "              optimizer='adam',\n",
        "              metrics=['accuracy'])\n",
        "\n",
        "# In ra thông tin tổng quan của mô hình\n",
        "model_GRU.summary()"
      ],
      "metadata": {
        "colab": {
          "base_uri": "https://localhost:8080/"
        },
        "id": "45BaRPvh8FaD",
        "outputId": "e0d25caf-8206-4dbe-e5e1-9f34e5174aa8"
      },
      "execution_count": null,
      "outputs": [
        {
          "output_type": "stream",
          "name": "stdout",
          "text": [
            "Model: \"sequential_7\"\n",
            "_________________________________________________________________\n",
            " Layer (type)                Output Shape              Param #   \n",
            "=================================================================\n",
            " embedding_6 (Embedding)     (None, None, 16)          640000    \n",
            "                                                                 \n",
            " gru_1 (GRU)                 (None, 32)                4800      \n",
            "                                                                 \n",
            " dense_7 (Dense)             (None, 1)                 33        \n",
            "                                                                 \n",
            "=================================================================\n",
            "Total params: 644,833\n",
            "Trainable params: 644,833\n",
            "Non-trainable params: 0\n",
            "_________________________________________________________________\n"
          ]
        }
      ]
    },
    {
      "cell_type": "code",
      "source": [
        "# Huấn luyện mô hình\n",
        "epochs = 75\n",
        "history = model_GRU.fit(\n",
        "    train_ds,\n",
        "    epochs=epochs,\n",
        "    verbose=2\n",
        ")"
      ],
      "metadata": {
        "colab": {
          "base_uri": "https://localhost:8080/"
        },
        "id": "NjVhfhlW8RZD",
        "outputId": "51112193-1423-4650-9667-fa16a103a308"
      },
      "execution_count": null,
      "outputs": [
        {
          "output_type": "stream",
          "name": "stdout",
          "text": [
            "Epoch 1/75\n",
            "5/5 - 35s - loss: 0.6932 - accuracy: 0.5013 - 35s/epoch - 7s/step\n",
            "Epoch 2/75\n",
            "5/5 - 32s - loss: 0.6928 - accuracy: 0.5075 - 32s/epoch - 6s/step\n",
            "Epoch 3/75\n",
            "5/5 - 25s - loss: 0.6925 - accuracy: 0.5226 - 25s/epoch - 5s/step\n",
            "Epoch 4/75\n",
            "5/5 - 24s - loss: 0.6920 - accuracy: 0.5342 - 24s/epoch - 5s/step\n",
            "Epoch 5/75\n",
            "5/5 - 22s - loss: 0.6912 - accuracy: 0.5458 - 22s/epoch - 4s/step\n",
            "Epoch 6/75\n",
            "5/5 - 24s - loss: 0.6902 - accuracy: 0.5498 - 24s/epoch - 5s/step\n",
            "Epoch 7/75\n",
            "5/5 - 24s - loss: 0.6888 - accuracy: 0.5532 - 24s/epoch - 5s/step\n",
            "Epoch 8/75\n",
            "5/5 - 25s - loss: 0.6867 - accuracy: 0.5565 - 25s/epoch - 5s/step\n",
            "Epoch 9/75\n",
            "5/5 - 26s - loss: 0.6835 - accuracy: 0.5602 - 26s/epoch - 5s/step\n",
            "Epoch 10/75\n",
            "5/5 - 23s - loss: 0.6785 - accuracy: 0.5646 - 23s/epoch - 5s/step\n",
            "Epoch 11/75\n",
            "5/5 - 22s - loss: 0.6697 - accuracy: 0.5681 - 22s/epoch - 4s/step\n",
            "Epoch 12/75\n",
            "5/5 - 22s - loss: 0.6481 - accuracy: 0.6029 - 22s/epoch - 4s/step\n",
            "Epoch 13/75\n",
            "5/5 - 22s - loss: 0.5668 - accuracy: 0.7128 - 22s/epoch - 4s/step\n",
            "Epoch 14/75\n",
            "5/5 - 25s - loss: 0.5008 - accuracy: 0.7783 - 25s/epoch - 5s/step\n",
            "Epoch 15/75\n",
            "5/5 - 24s - loss: 0.4292 - accuracy: 0.8234 - 24s/epoch - 5s/step\n",
            "Epoch 16/75\n",
            "5/5 - 22s - loss: 0.3690 - accuracy: 0.8576 - 22s/epoch - 4s/step\n",
            "Epoch 17/75\n",
            "5/5 - 22s - loss: 0.3284 - accuracy: 0.8788 - 22s/epoch - 4s/step\n",
            "Epoch 18/75\n",
            "5/5 - 22s - loss: 0.2955 - accuracy: 0.8955 - 22s/epoch - 4s/step\n",
            "Epoch 19/75\n",
            "5/5 - 24s - loss: 0.2660 - accuracy: 0.9127 - 24s/epoch - 5s/step\n",
            "Epoch 20/75\n",
            "5/5 - 21s - loss: 0.2436 - accuracy: 0.9230 - 21s/epoch - 4s/step\n",
            "Epoch 21/75\n",
            "5/5 - 22s - loss: 0.2266 - accuracy: 0.9302 - 22s/epoch - 4s/step\n",
            "Epoch 22/75\n",
            "5/5 - 22s - loss: 0.2150 - accuracy: 0.9352 - 22s/epoch - 4s/step\n",
            "Epoch 23/75\n",
            "5/5 - 22s - loss: 0.2223 - accuracy: 0.9296 - 22s/epoch - 4s/step\n",
            "Epoch 24/75\n",
            "5/5 - 22s - loss: 0.2547 - accuracy: 0.9146 - 22s/epoch - 4s/step\n",
            "Epoch 25/75\n",
            "5/5 - 22s - loss: 0.2114 - accuracy: 0.9351 - 22s/epoch - 4s/step\n",
            "Epoch 26/75\n",
            "5/5 - 23s - loss: 0.1876 - accuracy: 0.9459 - 23s/epoch - 5s/step\n",
            "Epoch 27/75\n",
            "5/5 - 25s - loss: 0.1745 - accuracy: 0.9520 - 25s/epoch - 5s/step\n",
            "Epoch 28/75\n",
            "5/5 - 24s - loss: 0.1625 - accuracy: 0.9558 - 24s/epoch - 5s/step\n",
            "Epoch 29/75\n",
            "5/5 - 23s - loss: 0.1530 - accuracy: 0.9594 - 23s/epoch - 5s/step\n",
            "Epoch 30/75\n",
            "5/5 - 23s - loss: 0.1444 - accuracy: 0.9633 - 23s/epoch - 5s/step\n",
            "Epoch 31/75\n",
            "5/5 - 23s - loss: 0.1368 - accuracy: 0.9660 - 23s/epoch - 5s/step\n",
            "Epoch 32/75\n",
            "5/5 - 22s - loss: 0.1312 - accuracy: 0.9684 - 22s/epoch - 4s/step\n",
            "Epoch 33/75\n",
            "5/5 - 22s - loss: 0.1269 - accuracy: 0.9694 - 22s/epoch - 4s/step\n",
            "Epoch 34/75\n",
            "5/5 - 23s - loss: 0.1229 - accuracy: 0.9709 - 23s/epoch - 5s/step\n",
            "Epoch 35/75\n",
            "5/5 - 24s - loss: 0.1197 - accuracy: 0.9720 - 24s/epoch - 5s/step\n",
            "Epoch 36/75\n",
            "5/5 - 21s - loss: 0.1164 - accuracy: 0.9731 - 21s/epoch - 4s/step\n",
            "Epoch 37/75\n",
            "5/5 - 22s - loss: 0.1137 - accuracy: 0.9743 - 22s/epoch - 4s/step\n",
            "Epoch 38/75\n",
            "5/5 - 23s - loss: 0.1115 - accuracy: 0.9748 - 23s/epoch - 5s/step\n",
            "Epoch 39/75\n",
            "5/5 - 24s - loss: 0.1090 - accuracy: 0.9754 - 24s/epoch - 5s/step\n",
            "Epoch 40/75\n",
            "5/5 - 24s - loss: 0.1067 - accuracy: 0.9763 - 24s/epoch - 5s/step\n",
            "Epoch 41/75\n",
            "5/5 - 22s - loss: 0.1045 - accuracy: 0.9768 - 22s/epoch - 4s/step\n",
            "Epoch 42/75\n",
            "5/5 - 21s - loss: 0.1024 - accuracy: 0.9776 - 21s/epoch - 4s/step\n",
            "Epoch 43/75\n",
            "5/5 - 21s - loss: 0.1007 - accuracy: 0.9781 - 21s/epoch - 4s/step\n",
            "Epoch 44/75\n",
            "5/5 - 21s - loss: 0.0989 - accuracy: 0.9787 - 21s/epoch - 4s/step\n",
            "Epoch 45/75\n",
            "5/5 - 21s - loss: 0.0969 - accuracy: 0.9794 - 21s/epoch - 4s/step\n",
            "Epoch 46/75\n",
            "5/5 - 21s - loss: 0.0954 - accuracy: 0.9799 - 21s/epoch - 4s/step\n",
            "Epoch 47/75\n",
            "5/5 - 21s - loss: 0.0942 - accuracy: 0.9803 - 21s/epoch - 4s/step\n",
            "Epoch 48/75\n",
            "5/5 - 23s - loss: 0.0928 - accuracy: 0.9807 - 23s/epoch - 5s/step\n",
            "Epoch 49/75\n",
            "5/5 - 23s - loss: 0.0914 - accuracy: 0.9811 - 23s/epoch - 5s/step\n",
            "Epoch 50/75\n",
            "5/5 - 21s - loss: 0.0903 - accuracy: 0.9813 - 21s/epoch - 4s/step\n",
            "Epoch 51/75\n",
            "5/5 - 21s - loss: 0.0891 - accuracy: 0.9816 - 21s/epoch - 4s/step\n",
            "Epoch 52/75\n",
            "5/5 - 21s - loss: 0.0880 - accuracy: 0.9819 - 21s/epoch - 4s/step\n",
            "Epoch 53/75\n",
            "5/5 - 23s - loss: 0.0869 - accuracy: 0.9822 - 23s/epoch - 5s/step\n",
            "Epoch 54/75\n",
            "5/5 - 22s - loss: 0.0859 - accuracy: 0.9825 - 22s/epoch - 4s/step\n",
            "Epoch 55/75\n",
            "5/5 - 23s - loss: 0.0848 - accuracy: 0.9828 - 23s/epoch - 5s/step\n",
            "Epoch 56/75\n",
            "5/5 - 24s - loss: 0.0841 - accuracy: 0.9829 - 24s/epoch - 5s/step\n",
            "Epoch 57/75\n",
            "5/5 - 22s - loss: 0.0834 - accuracy: 0.9830 - 22s/epoch - 4s/step\n",
            "Epoch 58/75\n",
            "5/5 - 21s - loss: 0.0824 - accuracy: 0.9833 - 21s/epoch - 4s/step\n",
            "Epoch 59/75\n",
            "5/5 - 23s - loss: 0.0813 - accuracy: 0.9836 - 23s/epoch - 5s/step\n",
            "Epoch 60/75\n",
            "5/5 - 21s - loss: 0.0803 - accuracy: 0.9839 - 21s/epoch - 4s/step\n",
            "Epoch 61/75\n",
            "5/5 - 21s - loss: 0.0796 - accuracy: 0.9840 - 21s/epoch - 4s/step\n",
            "Epoch 62/75\n",
            "5/5 - 21s - loss: 0.0788 - accuracy: 0.9843 - 21s/epoch - 4s/step\n",
            "Epoch 63/75\n",
            "5/5 - 21s - loss: 0.0780 - accuracy: 0.9844 - 21s/epoch - 4s/step\n",
            "Epoch 64/75\n",
            "5/5 - 23s - loss: 0.0771 - accuracy: 0.9846 - 23s/epoch - 5s/step\n",
            "Epoch 65/75\n",
            "5/5 - 21s - loss: 0.0762 - accuracy: 0.9848 - 21s/epoch - 4s/step\n",
            "Epoch 66/75\n",
            "5/5 - 23s - loss: 0.0752 - accuracy: 0.9851 - 23s/epoch - 5s/step\n",
            "Epoch 67/75\n",
            "5/5 - 22s - loss: 0.0743 - accuracy: 0.9854 - 22s/epoch - 4s/step\n",
            "Epoch 68/75\n",
            "5/5 - 21s - loss: 0.0735 - accuracy: 0.9856 - 21s/epoch - 4s/step\n",
            "Epoch 69/75\n",
            "5/5 - 21s - loss: 0.0728 - accuracy: 0.9858 - 21s/epoch - 4s/step\n",
            "Epoch 70/75\n",
            "5/5 - 23s - loss: 0.0724 - accuracy: 0.9860 - 23s/epoch - 5s/step\n",
            "Epoch 71/75\n",
            "5/5 - 22s - loss: 0.0715 - accuracy: 0.9861 - 22s/epoch - 4s/step\n",
            "Epoch 72/75\n",
            "5/5 - 21s - loss: 0.0709 - accuracy: 0.9863 - 21s/epoch - 4s/step\n",
            "Epoch 73/75\n",
            "5/5 - 21s - loss: 0.0703 - accuracy: 0.9864 - 21s/epoch - 4s/step\n",
            "Epoch 74/75\n",
            "5/5 - 21s - loss: 0.0695 - accuracy: 0.9866 - 21s/epoch - 4s/step\n",
            "Epoch 75/75\n",
            "5/5 - 21s - loss: 0.0689 - accuracy: 0.9868 - 21s/epoch - 4s/step\n"
          ]
        }
      ]
    },
    {
      "cell_type": "code",
      "source": [
        "# Make a new sequential model using the vectorization layer and the model you just trained.\n",
        "export_model = tf.keras.Sequential([\n",
        "  vectorize_layer,\n",
        "  model_GRU]\n",
        ")\n",
        "\n",
        "# Compile the model\n",
        "export_model.compile(\n",
        "    loss=losses.BinaryCrossentropy(from_logits=False), optimizer=\"adam\", metrics=['accuracy']\n",
        ")"
      ],
      "metadata": {
        "id": "4RlbOGSZHnbw"
      },
      "execution_count": null,
      "outputs": []
    },
    {
      "cell_type": "markdown",
      "source": [
        "# **Mô hình LSTM 2 chiều**"
      ],
      "metadata": {
        "id": "IpCd6WPm8fC6"
      }
    },
    {
      "cell_type": "code",
      "source": [
        "embedding_dim = 32\n",
        "from tensorflow.keras.layers import LSTM\n",
        "\n",
        "model_bi_LSTM = tf.keras.Sequential([\n",
        "    layers.Embedding(max_features,embedding_dim),\n",
        "    layers.Bidirectional(LSTM(128,activation='tanh',return_sequences=False)),\n",
        "    layers.Dense(1, activation='sigmoid')\n",
        "])\n",
        "\n",
        "# Biên dịch mô hình\n",
        "model_bi_LSTM.compile(loss=losses.BinaryCrossentropy(from_logits=False),\n",
        "              optimizer='adam',\n",
        "              metrics=['accuracy'])\n",
        "\n",
        "# In ra thông tin tổng quan của mô hình\n",
        "model_bi_LSTM.summary()\n"
      ],
      "metadata": {
        "id": "Hz9I5W158cqY"
      },
      "execution_count": null,
      "outputs": []
    },
    {
      "cell_type": "code",
      "source": [
        "# Make a new sequential model using the vectorization layer and the model you just trained.\n",
        "export_model = tf.keras.Sequential([\n",
        "  vectorize_layer,\n",
        "  model_bi_LSTM]\n",
        ")\n",
        "\n",
        "# Compile the model\n",
        "export_model.compile(\n",
        "    loss=losses.BinaryCrossentropy(from_logits=False), optimizer=\"adam\", metrics=['accuracy']\n",
        ")"
      ],
      "metadata": {
        "id": "WFNCbzzO8_h8"
      },
      "execution_count": null,
      "outputs": []
    },
    {
      "cell_type": "markdown",
      "source": [
        "# **Đưa ra dự đoán nhãn cho file test của Kaggle**"
      ],
      "metadata": {
        "id": "uSwgxlMHIe7S"
      }
    },
    {
      "cell_type": "code",
      "execution_count": null,
      "metadata": {
        "id": "eGCwKDtodevM"
      },
      "outputs": [],
      "source": [
        "import pandas as pd\n",
        "\n",
        "# Đọc dữ liệu từ tệp CSV\n",
        "data = pd.read_csv('test_data.csv')\n",
        "\n",
        "# Lấy dữ liệu từ cột 'text'\n",
        "examples = data['text'].tolist()\n",
        "\n",
        "# Dự đoán nhãn cho dữ liệu\n",
        "results = export_model.predict(examples, verbose=False)\n",
        "\n",
        "# Tạo DataFrame mới với ID ban đầu và nhãn dự đoán\n",
        "predicted_data = pd.DataFrame({\n",
        "    'Id': data['Id'],  # Thay 'id' bằng tên cột ID thực tế trong tệp CSV\n",
        "    'Category': [int(np.round(result[0])) for result in results]\n",
        "})\n",
        "\n",
        "# Lưu DataFrame vào tệp CSV mới\n",
        "predicted_data.to_csv('/content/drive/MyDrive/predicted_labels.csv', index=False)\n"
      ]
    },
    {
      "cell_type": "code",
      "execution_count": null,
      "metadata": {
        "id": "JILYIiTpd1ma",
        "colab": {
          "base_uri": "https://localhost:8080/",
          "height": 423
        },
        "outputId": "b403c974-51ac-4e43-e7a5-0519f380bb66"
      },
      "outputs": [
        {
          "output_type": "execute_result",
          "data": {
            "text/plain": [
              "        Id  Category\n",
              "0        0         0\n",
              "1        1         0\n",
              "2        2         0\n",
              "3        3         0\n",
              "4        4         1\n",
              "...    ...       ...\n",
              "9995  9995         0\n",
              "9996  9996         0\n",
              "9997  9997         0\n",
              "9998  9998         0\n",
              "9999  9999         0\n",
              "\n",
              "[10000 rows x 2 columns]"
            ],
            "text/html": [
              "\n",
              "  <div id=\"df-1d29b726-f3f3-48d3-9465-f35d2f2e75aa\" class=\"colab-df-container\">\n",
              "    <div>\n",
              "<style scoped>\n",
              "    .dataframe tbody tr th:only-of-type {\n",
              "        vertical-align: middle;\n",
              "    }\n",
              "\n",
              "    .dataframe tbody tr th {\n",
              "        vertical-align: top;\n",
              "    }\n",
              "\n",
              "    .dataframe thead th {\n",
              "        text-align: right;\n",
              "    }\n",
              "</style>\n",
              "<table border=\"1\" class=\"dataframe\">\n",
              "  <thead>\n",
              "    <tr style=\"text-align: right;\">\n",
              "      <th></th>\n",
              "      <th>Id</th>\n",
              "      <th>Category</th>\n",
              "    </tr>\n",
              "  </thead>\n",
              "  <tbody>\n",
              "    <tr>\n",
              "      <th>0</th>\n",
              "      <td>0</td>\n",
              "      <td>0</td>\n",
              "    </tr>\n",
              "    <tr>\n",
              "      <th>1</th>\n",
              "      <td>1</td>\n",
              "      <td>0</td>\n",
              "    </tr>\n",
              "    <tr>\n",
              "      <th>2</th>\n",
              "      <td>2</td>\n",
              "      <td>0</td>\n",
              "    </tr>\n",
              "    <tr>\n",
              "      <th>3</th>\n",
              "      <td>3</td>\n",
              "      <td>0</td>\n",
              "    </tr>\n",
              "    <tr>\n",
              "      <th>4</th>\n",
              "      <td>4</td>\n",
              "      <td>1</td>\n",
              "    </tr>\n",
              "    <tr>\n",
              "      <th>...</th>\n",
              "      <td>...</td>\n",
              "      <td>...</td>\n",
              "    </tr>\n",
              "    <tr>\n",
              "      <th>9995</th>\n",
              "      <td>9995</td>\n",
              "      <td>0</td>\n",
              "    </tr>\n",
              "    <tr>\n",
              "      <th>9996</th>\n",
              "      <td>9996</td>\n",
              "      <td>0</td>\n",
              "    </tr>\n",
              "    <tr>\n",
              "      <th>9997</th>\n",
              "      <td>9997</td>\n",
              "      <td>0</td>\n",
              "    </tr>\n",
              "    <tr>\n",
              "      <th>9998</th>\n",
              "      <td>9998</td>\n",
              "      <td>0</td>\n",
              "    </tr>\n",
              "    <tr>\n",
              "      <th>9999</th>\n",
              "      <td>9999</td>\n",
              "      <td>0</td>\n",
              "    </tr>\n",
              "  </tbody>\n",
              "</table>\n",
              "<p>10000 rows × 2 columns</p>\n",
              "</div>\n",
              "    <div class=\"colab-df-buttons\">\n",
              "\n",
              "  <div class=\"colab-df-container\">\n",
              "    <button class=\"colab-df-convert\" onclick=\"convertToInteractive('df-1d29b726-f3f3-48d3-9465-f35d2f2e75aa')\"\n",
              "            title=\"Convert this dataframe to an interactive table.\"\n",
              "            style=\"display:none;\">\n",
              "\n",
              "  <svg xmlns=\"http://www.w3.org/2000/svg\" height=\"24px\" viewBox=\"0 -960 960 960\">\n",
              "    <path d=\"M120-120v-720h720v720H120Zm60-500h600v-160H180v160Zm220 220h160v-160H400v160Zm0 220h160v-160H400v160ZM180-400h160v-160H180v160Zm440 0h160v-160H620v160ZM180-180h160v-160H180v160Zm440 0h160v-160H620v160Z\"/>\n",
              "  </svg>\n",
              "    </button>\n",
              "\n",
              "  <style>\n",
              "    .colab-df-container {\n",
              "      display:flex;\n",
              "      gap: 12px;\n",
              "    }\n",
              "\n",
              "    .colab-df-convert {\n",
              "      background-color: #E8F0FE;\n",
              "      border: none;\n",
              "      border-radius: 50%;\n",
              "      cursor: pointer;\n",
              "      display: none;\n",
              "      fill: #1967D2;\n",
              "      height: 32px;\n",
              "      padding: 0 0 0 0;\n",
              "      width: 32px;\n",
              "    }\n",
              "\n",
              "    .colab-df-convert:hover {\n",
              "      background-color: #E2EBFA;\n",
              "      box-shadow: 0px 1px 2px rgba(60, 64, 67, 0.3), 0px 1px 3px 1px rgba(60, 64, 67, 0.15);\n",
              "      fill: #174EA6;\n",
              "    }\n",
              "\n",
              "    .colab-df-buttons div {\n",
              "      margin-bottom: 4px;\n",
              "    }\n",
              "\n",
              "    [theme=dark] .colab-df-convert {\n",
              "      background-color: #3B4455;\n",
              "      fill: #D2E3FC;\n",
              "    }\n",
              "\n",
              "    [theme=dark] .colab-df-convert:hover {\n",
              "      background-color: #434B5C;\n",
              "      box-shadow: 0px 1px 3px 1px rgba(0, 0, 0, 0.15);\n",
              "      filter: drop-shadow(0px 1px 2px rgba(0, 0, 0, 0.3));\n",
              "      fill: #FFFFFF;\n",
              "    }\n",
              "  </style>\n",
              "\n",
              "    <script>\n",
              "      const buttonEl =\n",
              "        document.querySelector('#df-1d29b726-f3f3-48d3-9465-f35d2f2e75aa button.colab-df-convert');\n",
              "      buttonEl.style.display =\n",
              "        google.colab.kernel.accessAllowed ? 'block' : 'none';\n",
              "\n",
              "      async function convertToInteractive(key) {\n",
              "        const element = document.querySelector('#df-1d29b726-f3f3-48d3-9465-f35d2f2e75aa');\n",
              "        const dataTable =\n",
              "          await google.colab.kernel.invokeFunction('convertToInteractive',\n",
              "                                                    [key], {});\n",
              "        if (!dataTable) return;\n",
              "\n",
              "        const docLinkHtml = 'Like what you see? Visit the ' +\n",
              "          '<a target=\"_blank\" href=https://colab.research.google.com/notebooks/data_table.ipynb>data table notebook</a>'\n",
              "          + ' to learn more about interactive tables.';\n",
              "        element.innerHTML = '';\n",
              "        dataTable['output_type'] = 'display_data';\n",
              "        await google.colab.output.renderOutput(dataTable, element);\n",
              "        const docLink = document.createElement('div');\n",
              "        docLink.innerHTML = docLinkHtml;\n",
              "        element.appendChild(docLink);\n",
              "      }\n",
              "    </script>\n",
              "  </div>\n",
              "\n",
              "\n",
              "<div id=\"df-346f0253-3ad7-4ccc-8bfd-9bde76c05c7e\">\n",
              "  <button class=\"colab-df-quickchart\" onclick=\"quickchart('df-346f0253-3ad7-4ccc-8bfd-9bde76c05c7e')\"\n",
              "            title=\"Suggest charts\"\n",
              "            style=\"display:none;\">\n",
              "\n",
              "<svg xmlns=\"http://www.w3.org/2000/svg\" height=\"24px\"viewBox=\"0 0 24 24\"\n",
              "     width=\"24px\">\n",
              "    <g>\n",
              "        <path d=\"M19 3H5c-1.1 0-2 .9-2 2v14c0 1.1.9 2 2 2h14c1.1 0 2-.9 2-2V5c0-1.1-.9-2-2-2zM9 17H7v-7h2v7zm4 0h-2V7h2v10zm4 0h-2v-4h2v4z\"/>\n",
              "    </g>\n",
              "</svg>\n",
              "  </button>\n",
              "\n",
              "<style>\n",
              "  .colab-df-quickchart {\n",
              "      --bg-color: #E8F0FE;\n",
              "      --fill-color: #1967D2;\n",
              "      --hover-bg-color: #E2EBFA;\n",
              "      --hover-fill-color: #174EA6;\n",
              "      --disabled-fill-color: #AAA;\n",
              "      --disabled-bg-color: #DDD;\n",
              "  }\n",
              "\n",
              "  [theme=dark] .colab-df-quickchart {\n",
              "      --bg-color: #3B4455;\n",
              "      --fill-color: #D2E3FC;\n",
              "      --hover-bg-color: #434B5C;\n",
              "      --hover-fill-color: #FFFFFF;\n",
              "      --disabled-bg-color: #3B4455;\n",
              "      --disabled-fill-color: #666;\n",
              "  }\n",
              "\n",
              "  .colab-df-quickchart {\n",
              "    background-color: var(--bg-color);\n",
              "    border: none;\n",
              "    border-radius: 50%;\n",
              "    cursor: pointer;\n",
              "    display: none;\n",
              "    fill: var(--fill-color);\n",
              "    height: 32px;\n",
              "    padding: 0;\n",
              "    width: 32px;\n",
              "  }\n",
              "\n",
              "  .colab-df-quickchart:hover {\n",
              "    background-color: var(--hover-bg-color);\n",
              "    box-shadow: 0 1px 2px rgba(60, 64, 67, 0.3), 0 1px 3px 1px rgba(60, 64, 67, 0.15);\n",
              "    fill: var(--button-hover-fill-color);\n",
              "  }\n",
              "\n",
              "  .colab-df-quickchart-complete:disabled,\n",
              "  .colab-df-quickchart-complete:disabled:hover {\n",
              "    background-color: var(--disabled-bg-color);\n",
              "    fill: var(--disabled-fill-color);\n",
              "    box-shadow: none;\n",
              "  }\n",
              "\n",
              "  .colab-df-spinner {\n",
              "    border: 2px solid var(--fill-color);\n",
              "    border-color: transparent;\n",
              "    border-bottom-color: var(--fill-color);\n",
              "    animation:\n",
              "      spin 1s steps(1) infinite;\n",
              "  }\n",
              "\n",
              "  @keyframes spin {\n",
              "    0% {\n",
              "      border-color: transparent;\n",
              "      border-bottom-color: var(--fill-color);\n",
              "      border-left-color: var(--fill-color);\n",
              "    }\n",
              "    20% {\n",
              "      border-color: transparent;\n",
              "      border-left-color: var(--fill-color);\n",
              "      border-top-color: var(--fill-color);\n",
              "    }\n",
              "    30% {\n",
              "      border-color: transparent;\n",
              "      border-left-color: var(--fill-color);\n",
              "      border-top-color: var(--fill-color);\n",
              "      border-right-color: var(--fill-color);\n",
              "    }\n",
              "    40% {\n",
              "      border-color: transparent;\n",
              "      border-right-color: var(--fill-color);\n",
              "      border-top-color: var(--fill-color);\n",
              "    }\n",
              "    60% {\n",
              "      border-color: transparent;\n",
              "      border-right-color: var(--fill-color);\n",
              "    }\n",
              "    80% {\n",
              "      border-color: transparent;\n",
              "      border-right-color: var(--fill-color);\n",
              "      border-bottom-color: var(--fill-color);\n",
              "    }\n",
              "    90% {\n",
              "      border-color: transparent;\n",
              "      border-bottom-color: var(--fill-color);\n",
              "    }\n",
              "  }\n",
              "</style>\n",
              "\n",
              "  <script>\n",
              "    async function quickchart(key) {\n",
              "      const quickchartButtonEl =\n",
              "        document.querySelector('#' + key + ' button');\n",
              "      quickchartButtonEl.disabled = true;  // To prevent multiple clicks.\n",
              "      quickchartButtonEl.classList.add('colab-df-spinner');\n",
              "      try {\n",
              "        const charts = await google.colab.kernel.invokeFunction(\n",
              "            'suggestCharts', [key], {});\n",
              "      } catch (error) {\n",
              "        console.error('Error during call to suggestCharts:', error);\n",
              "      }\n",
              "      quickchartButtonEl.classList.remove('colab-df-spinner');\n",
              "      quickchartButtonEl.classList.add('colab-df-quickchart-complete');\n",
              "    }\n",
              "    (() => {\n",
              "      let quickchartButtonEl =\n",
              "        document.querySelector('#df-346f0253-3ad7-4ccc-8bfd-9bde76c05c7e button');\n",
              "      quickchartButtonEl.style.display =\n",
              "        google.colab.kernel.accessAllowed ? 'block' : 'none';\n",
              "    })();\n",
              "  </script>\n",
              "</div>\n",
              "    </div>\n",
              "  </div>\n"
            ]
          },
          "metadata": {},
          "execution_count": 38
        }
      ],
      "source": [
        "predicted_data"
      ]
    }
  ],
  "metadata": {
    "accelerator": "TPU",
    "colab": {
      "provenance": []
    },
    "kernelspec": {
      "display_name": "Python 3",
      "name": "python3"
    },
    "language_info": {
      "name": "python"
    }
  },
  "nbformat": 4,
  "nbformat_minor": 0
}