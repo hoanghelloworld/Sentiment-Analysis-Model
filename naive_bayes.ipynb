{
  "nbformat": 4,
  "nbformat_minor": 0,
  "metadata": {
    "colab": {
      "provenance": []
    },
    "kernelspec": {
      "name": "python3",
      "display_name": "Python 3"
    },
    "language_info": {
      "name": "python"
    }
  },
  "cells": [
    {
      "cell_type": "code",
      "execution_count": null,
      "metadata": {
        "colab": {
          "base_uri": "https://localhost:8080/"
        },
        "id": "J_BF1bFkvNCq",
        "outputId": "f1482433-470d-461a-f177-e35621646764"
      },
      "outputs": [
        {
          "output_type": "stream",
          "name": "stdout",
          "text": [
            "Requirement already satisfied: numpy in /usr/local/lib/python3.10/dist-packages (1.23.5)\n",
            "Requirement already satisfied: nltk in /usr/local/lib/python3.10/dist-packages (3.8.1)\n",
            "Requirement already satisfied: click in /usr/local/lib/python3.10/dist-packages (from nltk) (8.1.7)\n",
            "Requirement already satisfied: joblib in /usr/local/lib/python3.10/dist-packages (from nltk) (1.3.2)\n",
            "Requirement already satisfied: regex>=2021.8.3 in /usr/local/lib/python3.10/dist-packages (from nltk) (2023.6.3)\n",
            "Requirement already satisfied: tqdm in /usr/local/lib/python3.10/dist-packages (from nltk) (4.66.1)\n",
            "Requirement already satisfied: pandas in /usr/local/lib/python3.10/dist-packages (1.5.3)\n",
            "Requirement already satisfied: python-dateutil>=2.8.1 in /usr/local/lib/python3.10/dist-packages (from pandas) (2.8.2)\n",
            "Requirement already satisfied: pytz>=2020.1 in /usr/local/lib/python3.10/dist-packages (from pandas) (2023.3.post1)\n",
            "Requirement already satisfied: numpy>=1.21.0 in /usr/local/lib/python3.10/dist-packages (from pandas) (1.23.5)\n",
            "Requirement already satisfied: six>=1.5 in /usr/local/lib/python3.10/dist-packages (from python-dateutil>=2.8.1->pandas) (1.16.0)\n"
          ]
        }
      ],
      "source": [
        "!pip install numpy\n",
        "!pip install nltk\n",
        "!pip install pandas"
      ]
    },
    {
      "cell_type": "code",
      "source": [
        "import nltk\n",
        "nltk.download('stopwords')\n",
        "import numpy as np\n",
        "import pandas as pd\n",
        "from os import getcwd"
      ],
      "metadata": {
        "colab": {
          "base_uri": "https://localhost:8080/"
        },
        "id": "7o-nJYCwvfru",
        "outputId": "dd76a3a9-58c9-4783-d233-0452b77e8ccb"
      },
      "execution_count": null,
      "outputs": [
        {
          "output_type": "stream",
          "name": "stderr",
          "text": [
            "[nltk_data] Downloading package stopwords to /root/nltk_data...\n",
            "[nltk_data]   Unzipping corpora/stopwords.zip.\n"
          ]
        }
      ]
    },
    {
      "cell_type": "code",
      "source": [
        "import re\n",
        "import string\n",
        "from nltk.corpus import stopwords\n",
        "from nltk.stem import PorterStemmer\n",
        "from nltk.tokenize import TweetTokenizer\n",
        "\n",
        "def process_string(s):\n",
        "    stemmer = PorterStemmer()\n",
        "    stopwords_english = stopwords.words('english')\n",
        "    s =re.sub(r'\\$\\w*', '', s)\n",
        "    s = re.sub(r'^RT[\\s]+', '', s)\n",
        "    s = re.sub(r'https?:\\/\\/.*[\\r\\n]*', '', s)\n",
        "    s = re.sub(r'#', '', s)\n",
        "    tokenizer = TweetTokenizer(preserve_case=False,strip_handles=True,reduce_len=True)\n",
        "    s_tokens = tokenizer.tokenize(s)\n",
        "\n",
        "    s_clean = []\n",
        "    for word in s_tokens:\n",
        "        if (word not in stopwords_english and\n",
        "            word not in string.punctuation):\n",
        "            stem_word = stemmer.stem(word)  # stemming word\n",
        "            s_clean.append(stem_word)\n",
        "\n",
        "    return s_clean\n",
        "\n",
        "def build_freqs(list_text, list_sentiments):\n",
        "    yslist = np.squeeze(list_sentiments).tolist()\n",
        "    freqs = {}\n",
        "    for y, s in zip(yslist, list_text):\n",
        "        for word in process_string(s):\n",
        "            pair = (word, y)\n",
        "            if pair in freqs:\n",
        "                freqs[pair] += 1\n",
        "            else:\n",
        "                freqs[pair] = 1\n",
        "    return freqs\n"
      ],
      "metadata": {
        "id": "XCAMKa3Evhvq"
      },
      "execution_count": null,
      "outputs": []
    },
    {
      "cell_type": "code",
      "source": [
        "import zipfile\n",
        "with zipfile.ZipFile('dsaa-6100-movie-review-classification.zip', 'r') as zip_ref:\n",
        "    zip_ref.extractall()"
      ],
      "metadata": {
        "id": "gTsTXeIyvkN-"
      },
      "execution_count": null,
      "outputs": []
    },
    {
      "cell_type": "code",
      "source": [
        "df = pd.read_csv('movie_reviews/movie_reviews.csv')\n",
        "df1= pd.read_csv('test_data.csv')\n",
        "all_positive_s = df[df['label'] == 1]['text'].tolist()\n",
        "all_negative_s = df[df['label'] == 0]['text'].tolist()\n",
        "train_x = all_positive_s + all_negative_s\n",
        "\n"
      ],
      "metadata": {
        "id": "tvOebjPAwWJa"
      },
      "execution_count": null,
      "outputs": []
    },
    {
      "cell_type": "code",
      "source": [
        "test_x = df1['text'].tolist()"
      ],
      "metadata": {
        "id": "zHDkwbocwXCA"
      },
      "execution_count": null,
      "outputs": []
    },
    {
      "cell_type": "code",
      "source": [
        "test_x"
      ],
      "metadata": {
        "id": "5rzN2jTHwcP1"
      },
      "execution_count": null,
      "outputs": []
    },
    {
      "cell_type": "code",
      "source": [
        "# combine positive and negative labels\n",
        "train_y = np.append(np.ones((len(all_positive_s), 1)), np.zeros((len(all_negative_s), 1)), axis=0)"
      ],
      "metadata": {
        "id": "sytzreG7weQm"
      },
      "execution_count": null,
      "outputs": []
    },
    {
      "cell_type": "code",
      "source": [
        "freqs = build_freqs(train_x, train_y)\n",
        "print(\"type(freqs) = \" + str(type(freqs)))\n",
        "print(\"len(freqs) = \" + str(len(freqs.keys())))\n"
      ],
      "metadata": {
        "colab": {
          "base_uri": "https://localhost:8080/"
        },
        "id": "JMg7tO3-wgeU",
        "outputId": "28a97a4a-33eb-46fc-f202-9f3c554d68d7"
      },
      "execution_count": null,
      "outputs": [
        {
          "output_type": "stream",
          "name": "stdout",
          "text": [
            "type(freqs) = <class 'dict'>\n",
            "len(freqs) = 143707\n"
          ]
        }
      ]
    },
    {
      "cell_type": "code",
      "source": [
        "\n",
        "def train_naive_bayes(freqs, train_x, train_y):\n",
        "    loglikelihood = {}\n",
        "    logprior = 0\n",
        "\n",
        "    # calculate V, the number of unique words in the vocabulary\n",
        "    vocab = set([pair[0] for pair in freqs.keys()])\n",
        "    V = len(vocab)\n",
        "\n",
        "\n",
        "    # calculate N_pos, N_neg, V_pos, V_neg\n",
        "    N_pos = N_neg = 0\n",
        "    for pair in freqs.keys():\n",
        "        # if the label is positive (greater than zero)\n",
        "        if pair[1] > 0:\n",
        "\n",
        "            # Increment the number of positive words by the count for this (word, label) pair\n",
        "            N_pos += freqs.get((pair[0], 1.0), 0)\n",
        "\n",
        "        # else, the label is negative\n",
        "        else:\n",
        "\n",
        "            # increment the number of negative words by the count for this (word,label) pair\n",
        "            N_neg += freqs.get((pair[0], 0.0), 0)\n",
        "\n",
        "    # Calculate D, the number of documents\n",
        "    D = len(train_y)\n",
        "\n",
        "    # Calculate D_pos, the number of positive documents\n",
        "    D_pos = (train_y == 1).sum()\n",
        "\n",
        "    # Calculate D_neg, the number of negative documents\n",
        "    D_neg = (train_y == 0).sum()\n",
        "\n",
        "    # Calculate logprior\n",
        "    logprior = np.log(D_pos/D_neg)\n",
        "\n",
        "    # For each word in the vocabulary...\n",
        "    for word in vocab:\n",
        "        # get the positive and negative frequency of the word\n",
        "        freq_pos = freqs.get((word, 1.0), 0)\n",
        "        freq_neg = freqs.get((word, 0.0), 0)\n",
        "\n",
        "        # calculate the probability that each word is positive, and negative\n",
        "        p_w_pos = (freq_pos+1)/(N_pos+V)\n",
        "        p_w_neg = (freq_neg+1)/(N_neg+V)\n",
        "        # calculate the log likelihood of the word\n",
        "        loglikelihood[word] = np.log(p_w_pos / p_w_neg)\n",
        "\n",
        "    return logprior, loglikelihood"
      ],
      "metadata": {
        "id": "VXj0Ici9xl89"
      },
      "execution_count": null,
      "outputs": []
    },
    {
      "cell_type": "code",
      "source": [
        "\n",
        "logprior, loglikelihood = train_naive_bayes(freqs, train_x, train_y)\n",
        "print(logprior)\n",
        "print(len(loglikelihood))"
      ],
      "metadata": {
        "colab": {
          "base_uri": "https://localhost:8080/"
        },
        "id": "0kHq_6vkxs69",
        "outputId": "bf428c1e-54da-4300-c56d-96d6af673cc3"
      },
      "execution_count": null,
      "outputs": [
        {
          "output_type": "stream",
          "name": "stdout",
          "text": [
            "-0.004900009804118599\n",
            "111272\n"
          ]
        }
      ]
    },
    {
      "cell_type": "code",
      "source": [
        "def naive_bayes_predict(s, logprior, loglikelihood):\n",
        "    # process the string to get a list of words\n",
        "    word_l = process_string(s)\n",
        "\n",
        "    # initialize probability to zero\n",
        "    p = 0\n",
        "\n",
        "    # add the logprior\n",
        "    p += logprior\n",
        "\n",
        "    for word in word_l:\n",
        "\n",
        "        # check if the word exists in the loglikelihood dictionary\n",
        "        if word in loglikelihood:\n",
        "            # add the log likelihood of that word to the probability\n",
        "            p += loglikelihood[word]\n",
        "\n",
        "    return p"
      ],
      "metadata": {
        "id": "L97GUVcIxxTj"
      },
      "execution_count": null,
      "outputs": []
    },
    {
      "cell_type": "code",
      "source": [
        "s = 'He laughed.'\n",
        "p = naive_bayes_predict(s, logprior, loglikelihood)\n",
        "print('The expected output is', p)"
      ],
      "metadata": {
        "colab": {
          "base_uri": "https://localhost:8080/"
        },
        "id": "ylP0q77cx6o9",
        "outputId": "79e8d313-16c7-4950-cbde-16e420307d54"
      },
      "execution_count": null,
      "outputs": [
        {
          "output_type": "stream",
          "name": "stdout",
          "text": [
            "The expected output is -0.28838436005760265\n"
          ]
        }
      ]
    },
    {
      "cell_type": "code",
      "source": [
        "for s in ['I am happy', 'I am bad', 'this movie should have been great.', 'great', 'great great', 'great great great', 'great great great great']:\n",
        "    p = naive_bayes_predict(s, logprior, loglikelihood)\n",
        "    print(f'{s} -> {p:.2f}')"
      ],
      "metadata": {
        "colab": {
          "base_uri": "https://localhost:8080/"
        },
        "id": "ZQXQwWWZyJi5",
        "outputId": "cf7a7cae-3d7c-4fa4-8534-e12d0db11667"
      },
      "execution_count": null,
      "outputs": [
        {
          "output_type": "stream",
          "name": "stdout",
          "text": [
            "I am happy -> 0.52\n",
            "I am bad -> -1.39\n",
            "this movie should have been great. -> 0.60\n",
            "great -> 0.87\n",
            "great great -> 1.75\n",
            "great great great -> 2.63\n",
            "great great great great -> 3.51\n"
          ]
        }
      ]
    },
    {
      "cell_type": "code",
      "source": [
        "s = 'you are bad :('\n",
        "naive_bayes_predict(s, logprior, loglikelihood)"
      ],
      "metadata": {
        "colab": {
          "base_uri": "https://localhost:8080/"
        },
        "id": "wbtRqsN-yNQH",
        "outputId": "e4d7f283-9662-41c0-d6f2-9039e8083e7a"
      },
      "execution_count": null,
      "outputs": [
        {
          "output_type": "execute_result",
          "data": {
            "text/plain": [
              "-1.3918087057530268"
            ]
          },
          "metadata": {},
          "execution_count": 44
        }
      ]
    },
    {
      "cell_type": "code",
      "source": [
        "import pandas as pd\n",
        "\n",
        "\n",
        "# Tạo một danh sách để lưu trữ dự đoán\n",
        "sentiments = []\n",
        "\n",
        "for s in test_x:\n",
        "    y_hat = naive_bayes_predict(s, logprior, loglikelihood)\n",
        "    if y_hat >=0:\n",
        "        sentiments.append(1)  # Positive sentiment\n",
        "    else:\n",
        "        sentiments.append(0)  # Negative sentiment\n",
        "\n",
        "\n"
      ],
      "metadata": {
        "id": "mod63HkZyyGO"
      },
      "execution_count": null,
      "outputs": []
    },
    {
      "cell_type": "code",
      "source": [
        "df1['Category'] = sentiments\n",
        "\n",
        "# Xóa trường 'text'\n",
        "df1 = df1.drop(columns=['text'])\n",
        "\n",
        "# Đổi tên các trường\n",
        "df1 = df1.rename(columns={'id': 'Id'})"
      ],
      "metadata": {
        "id": "vWNuFOpxzDli"
      },
      "execution_count": null,
      "outputs": []
    },
    {
      "cell_type": "code",
      "source": [
        "df1"
      ],
      "metadata": {
        "colab": {
          "base_uri": "https://localhost:8080/",
          "height": 423
        },
        "id": "bt03pZqnzZUr",
        "outputId": "d63645c6-a5a6-416b-9415-45a04f31355c"
      },
      "execution_count": null,
      "outputs": [
        {
          "output_type": "execute_result",
          "data": {
            "text/plain": [
              "        Id  Category\n",
              "0        0         0\n",
              "1        1         1\n",
              "2        2         0\n",
              "3        3         1\n",
              "4        4         1\n",
              "...    ...       ...\n",
              "9995  9995         1\n",
              "9996  9996         0\n",
              "9997  9997         1\n",
              "9998  9998         1\n",
              "9999  9999         0\n",
              "\n",
              "[10000 rows x 2 columns]"
            ],
            "text/html": [
              "\n",
              "  <div id=\"df-d10b7d30-f62d-482a-acb3-c29e8a921652\" class=\"colab-df-container\">\n",
              "    <div>\n",
              "<style scoped>\n",
              "    .dataframe tbody tr th:only-of-type {\n",
              "        vertical-align: middle;\n",
              "    }\n",
              "\n",
              "    .dataframe tbody tr th {\n",
              "        vertical-align: top;\n",
              "    }\n",
              "\n",
              "    .dataframe thead th {\n",
              "        text-align: right;\n",
              "    }\n",
              "</style>\n",
              "<table border=\"1\" class=\"dataframe\">\n",
              "  <thead>\n",
              "    <tr style=\"text-align: right;\">\n",
              "      <th></th>\n",
              "      <th>Id</th>\n",
              "      <th>Category</th>\n",
              "    </tr>\n",
              "  </thead>\n",
              "  <tbody>\n",
              "    <tr>\n",
              "      <th>0</th>\n",
              "      <td>0</td>\n",
              "      <td>0</td>\n",
              "    </tr>\n",
              "    <tr>\n",
              "      <th>1</th>\n",
              "      <td>1</td>\n",
              "      <td>1</td>\n",
              "    </tr>\n",
              "    <tr>\n",
              "      <th>2</th>\n",
              "      <td>2</td>\n",
              "      <td>0</td>\n",
              "    </tr>\n",
              "    <tr>\n",
              "      <th>3</th>\n",
              "      <td>3</td>\n",
              "      <td>1</td>\n",
              "    </tr>\n",
              "    <tr>\n",
              "      <th>4</th>\n",
              "      <td>4</td>\n",
              "      <td>1</td>\n",
              "    </tr>\n",
              "    <tr>\n",
              "      <th>...</th>\n",
              "      <td>...</td>\n",
              "      <td>...</td>\n",
              "    </tr>\n",
              "    <tr>\n",
              "      <th>9995</th>\n",
              "      <td>9995</td>\n",
              "      <td>1</td>\n",
              "    </tr>\n",
              "    <tr>\n",
              "      <th>9996</th>\n",
              "      <td>9996</td>\n",
              "      <td>0</td>\n",
              "    </tr>\n",
              "    <tr>\n",
              "      <th>9997</th>\n",
              "      <td>9997</td>\n",
              "      <td>1</td>\n",
              "    </tr>\n",
              "    <tr>\n",
              "      <th>9998</th>\n",
              "      <td>9998</td>\n",
              "      <td>1</td>\n",
              "    </tr>\n",
              "    <tr>\n",
              "      <th>9999</th>\n",
              "      <td>9999</td>\n",
              "      <td>0</td>\n",
              "    </tr>\n",
              "  </tbody>\n",
              "</table>\n",
              "<p>10000 rows × 2 columns</p>\n",
              "</div>\n",
              "    <div class=\"colab-df-buttons\">\n",
              "\n",
              "  <div class=\"colab-df-container\">\n",
              "    <button class=\"colab-df-convert\" onclick=\"convertToInteractive('df-d10b7d30-f62d-482a-acb3-c29e8a921652')\"\n",
              "            title=\"Convert this dataframe to an interactive table.\"\n",
              "            style=\"display:none;\">\n",
              "\n",
              "  <svg xmlns=\"http://www.w3.org/2000/svg\" height=\"24px\" viewBox=\"0 -960 960 960\">\n",
              "    <path d=\"M120-120v-720h720v720H120Zm60-500h600v-160H180v160Zm220 220h160v-160H400v160Zm0 220h160v-160H400v160ZM180-400h160v-160H180v160Zm440 0h160v-160H620v160ZM180-180h160v-160H180v160Zm440 0h160v-160H620v160Z\"/>\n",
              "  </svg>\n",
              "    </button>\n",
              "\n",
              "  <style>\n",
              "    .colab-df-container {\n",
              "      display:flex;\n",
              "      gap: 12px;\n",
              "    }\n",
              "\n",
              "    .colab-df-convert {\n",
              "      background-color: #E8F0FE;\n",
              "      border: none;\n",
              "      border-radius: 50%;\n",
              "      cursor: pointer;\n",
              "      display: none;\n",
              "      fill: #1967D2;\n",
              "      height: 32px;\n",
              "      padding: 0 0 0 0;\n",
              "      width: 32px;\n",
              "    }\n",
              "\n",
              "    .colab-df-convert:hover {\n",
              "      background-color: #E2EBFA;\n",
              "      box-shadow: 0px 1px 2px rgba(60, 64, 67, 0.3), 0px 1px 3px 1px rgba(60, 64, 67, 0.15);\n",
              "      fill: #174EA6;\n",
              "    }\n",
              "\n",
              "    .colab-df-buttons div {\n",
              "      margin-bottom: 4px;\n",
              "    }\n",
              "\n",
              "    [theme=dark] .colab-df-convert {\n",
              "      background-color: #3B4455;\n",
              "      fill: #D2E3FC;\n",
              "    }\n",
              "\n",
              "    [theme=dark] .colab-df-convert:hover {\n",
              "      background-color: #434B5C;\n",
              "      box-shadow: 0px 1px 3px 1px rgba(0, 0, 0, 0.15);\n",
              "      filter: drop-shadow(0px 1px 2px rgba(0, 0, 0, 0.3));\n",
              "      fill: #FFFFFF;\n",
              "    }\n",
              "  </style>\n",
              "\n",
              "    <script>\n",
              "      const buttonEl =\n",
              "        document.querySelector('#df-d10b7d30-f62d-482a-acb3-c29e8a921652 button.colab-df-convert');\n",
              "      buttonEl.style.display =\n",
              "        google.colab.kernel.accessAllowed ? 'block' : 'none';\n",
              "\n",
              "      async function convertToInteractive(key) {\n",
              "        const element = document.querySelector('#df-d10b7d30-f62d-482a-acb3-c29e8a921652');\n",
              "        const dataTable =\n",
              "          await google.colab.kernel.invokeFunction('convertToInteractive',\n",
              "                                                    [key], {});\n",
              "        if (!dataTable) return;\n",
              "\n",
              "        const docLinkHtml = 'Like what you see? Visit the ' +\n",
              "          '<a target=\"_blank\" href=https://colab.research.google.com/notebooks/data_table.ipynb>data table notebook</a>'\n",
              "          + ' to learn more about interactive tables.';\n",
              "        element.innerHTML = '';\n",
              "        dataTable['output_type'] = 'display_data';\n",
              "        await google.colab.output.renderOutput(dataTable, element);\n",
              "        const docLink = document.createElement('div');\n",
              "        docLink.innerHTML = docLinkHtml;\n",
              "        element.appendChild(docLink);\n",
              "      }\n",
              "    </script>\n",
              "  </div>\n",
              "\n",
              "\n",
              "<div id=\"df-349a95e5-a6eb-41ad-9a85-98ceb510875e\">\n",
              "  <button class=\"colab-df-quickchart\" onclick=\"quickchart('df-349a95e5-a6eb-41ad-9a85-98ceb510875e')\"\n",
              "            title=\"Suggest charts\"\n",
              "            style=\"display:none;\">\n",
              "\n",
              "<svg xmlns=\"http://www.w3.org/2000/svg\" height=\"24px\"viewBox=\"0 0 24 24\"\n",
              "     width=\"24px\">\n",
              "    <g>\n",
              "        <path d=\"M19 3H5c-1.1 0-2 .9-2 2v14c0 1.1.9 2 2 2h14c1.1 0 2-.9 2-2V5c0-1.1-.9-2-2-2zM9 17H7v-7h2v7zm4 0h-2V7h2v10zm4 0h-2v-4h2v4z\"/>\n",
              "    </g>\n",
              "</svg>\n",
              "  </button>\n",
              "\n",
              "<style>\n",
              "  .colab-df-quickchart {\n",
              "      --bg-color: #E8F0FE;\n",
              "      --fill-color: #1967D2;\n",
              "      --hover-bg-color: #E2EBFA;\n",
              "      --hover-fill-color: #174EA6;\n",
              "      --disabled-fill-color: #AAA;\n",
              "      --disabled-bg-color: #DDD;\n",
              "  }\n",
              "\n",
              "  [theme=dark] .colab-df-quickchart {\n",
              "      --bg-color: #3B4455;\n",
              "      --fill-color: #D2E3FC;\n",
              "      --hover-bg-color: #434B5C;\n",
              "      --hover-fill-color: #FFFFFF;\n",
              "      --disabled-bg-color: #3B4455;\n",
              "      --disabled-fill-color: #666;\n",
              "  }\n",
              "\n",
              "  .colab-df-quickchart {\n",
              "    background-color: var(--bg-color);\n",
              "    border: none;\n",
              "    border-radius: 50%;\n",
              "    cursor: pointer;\n",
              "    display: none;\n",
              "    fill: var(--fill-color);\n",
              "    height: 32px;\n",
              "    padding: 0;\n",
              "    width: 32px;\n",
              "  }\n",
              "\n",
              "  .colab-df-quickchart:hover {\n",
              "    background-color: var(--hover-bg-color);\n",
              "    box-shadow: 0 1px 2px rgba(60, 64, 67, 0.3), 0 1px 3px 1px rgba(60, 64, 67, 0.15);\n",
              "    fill: var(--button-hover-fill-color);\n",
              "  }\n",
              "\n",
              "  .colab-df-quickchart-complete:disabled,\n",
              "  .colab-df-quickchart-complete:disabled:hover {\n",
              "    background-color: var(--disabled-bg-color);\n",
              "    fill: var(--disabled-fill-color);\n",
              "    box-shadow: none;\n",
              "  }\n",
              "\n",
              "  .colab-df-spinner {\n",
              "    border: 2px solid var(--fill-color);\n",
              "    border-color: transparent;\n",
              "    border-bottom-color: var(--fill-color);\n",
              "    animation:\n",
              "      spin 1s steps(1) infinite;\n",
              "  }\n",
              "\n",
              "  @keyframes spin {\n",
              "    0% {\n",
              "      border-color: transparent;\n",
              "      border-bottom-color: var(--fill-color);\n",
              "      border-left-color: var(--fill-color);\n",
              "    }\n",
              "    20% {\n",
              "      border-color: transparent;\n",
              "      border-left-color: var(--fill-color);\n",
              "      border-top-color: var(--fill-color);\n",
              "    }\n",
              "    30% {\n",
              "      border-color: transparent;\n",
              "      border-left-color: var(--fill-color);\n",
              "      border-top-color: var(--fill-color);\n",
              "      border-right-color: var(--fill-color);\n",
              "    }\n",
              "    40% {\n",
              "      border-color: transparent;\n",
              "      border-right-color: var(--fill-color);\n",
              "      border-top-color: var(--fill-color);\n",
              "    }\n",
              "    60% {\n",
              "      border-color: transparent;\n",
              "      border-right-color: var(--fill-color);\n",
              "    }\n",
              "    80% {\n",
              "      border-color: transparent;\n",
              "      border-right-color: var(--fill-color);\n",
              "      border-bottom-color: var(--fill-color);\n",
              "    }\n",
              "    90% {\n",
              "      border-color: transparent;\n",
              "      border-bottom-color: var(--fill-color);\n",
              "    }\n",
              "  }\n",
              "</style>\n",
              "\n",
              "  <script>\n",
              "    async function quickchart(key) {\n",
              "      const quickchartButtonEl =\n",
              "        document.querySelector('#' + key + ' button');\n",
              "      quickchartButtonEl.disabled = true;  // To prevent multiple clicks.\n",
              "      quickchartButtonEl.classList.add('colab-df-spinner');\n",
              "      try {\n",
              "        const charts = await google.colab.kernel.invokeFunction(\n",
              "            'suggestCharts', [key], {});\n",
              "      } catch (error) {\n",
              "        console.error('Error during call to suggestCharts:', error);\n",
              "      }\n",
              "      quickchartButtonEl.classList.remove('colab-df-spinner');\n",
              "      quickchartButtonEl.classList.add('colab-df-quickchart-complete');\n",
              "    }\n",
              "    (() => {\n",
              "      let quickchartButtonEl =\n",
              "        document.querySelector('#df-349a95e5-a6eb-41ad-9a85-98ceb510875e button');\n",
              "      quickchartButtonEl.style.display =\n",
              "        google.colab.kernel.accessAllowed ? 'block' : 'none';\n",
              "    })();\n",
              "  </script>\n",
              "</div>\n",
              "    </div>\n",
              "  </div>\n"
            ]
          },
          "metadata": {},
          "execution_count": 43
        }
      ]
    },
    {
      "cell_type": "code",
      "source": [
        "df1.to_csv('naive_bayes.csv', index=False)"
      ],
      "metadata": {
        "id": "1haB23KRziax"
      },
      "execution_count": null,
      "outputs": []
    },
    {
      "cell_type": "markdown",
      "source": [
        "![Untitled (2).png](data:image/png;base64,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)"
      ],
      "metadata": {
        "id": "GOpFgx5o0wsh"
      }
    },
    {
      "cell_type": "markdown",
      "source": [
        "**Phân tích dữ liệu**"
      ],
      "metadata": {
        "id": "8CC2a9ZrfuPS"
      }
    },
    {
      "cell_type": "code",
      "source": [
        "import pandas as pd\n",
        "\n",
        "def get_s_by_threshold(freqs, train_x, train_y):\n",
        "    # Initialize an empty DataFrame\n",
        "    df = pd.DataFrame(columns=['p_w_pos', 'p_w_neg', 'sentiment'])\n",
        "    vocab = set([pair[0] for pair in freqs.keys()])\n",
        "    V = len(vocab)\n",
        "    N_pos = N_neg = 0\n",
        "    for pair in freqs.keys():\n",
        "        # if the label is positive (greater than zero)\n",
        "        if pair[1] > 0:\n",
        "\n",
        "            # Increment the number of positive words by the count for this (word, label) pair\n",
        "            N_pos += freqs.get((pair[0], 1.0), 0)\n",
        "\n",
        "        # el-se, the label is negative\n",
        "        else:\n",
        "\n",
        "            # increment the number of negative words by the count for this (word,label) pair\n",
        "            N_neg += freqs.get((pair[0], 0.0), 0)\n",
        "    # Calculate D, the number of documents\n",
        "    D = len(train_y)\n",
        "\n",
        "    # Calculate D_pos, the number of positive documents\n",
        "    D_pos = (train_y == 1).sum()\n",
        "\n",
        "    # Calculate D_neg, the number of negative documents\n",
        "    D_neg = (train_y == 0).sum()\n",
        "\n",
        "    # Calculate logprior\n",
        "    logprior = np.log(D_pos/D_neg)\n",
        "    for x,y in zip(train_x,train_y):\n",
        "      word_l = process_string(x)\n",
        "      freq_pos=freq_neg=0\n",
        "      a=b=0\n",
        "      for word in word_l:\n",
        "        # get the positive and negative frequency of the word\n",
        "        freq_pos = freqs.get((word, 1.0), 0)\n",
        "        freq_neg = freqs.get((word, 0.0), 0)\n",
        "        p_w_pos = np.log((freq_pos+1)/(N_pos+V))\n",
        "        p_w_neg = np.log((freq_neg+1)/(N_neg+V))\n",
        "        a=a+p_w_pos\n",
        "        b=b+p_w_neg\n",
        "      a=a+np.log(D_pos/D)\n",
        "      b=b+np.log(D_neg/D)\n",
        "      df = df.append({'p_w_pos': a, 'p_w_neg': b, 'sentiment': y},ignore_index=True)\n",
        "    return df\n"
      ],
      "metadata": {
        "id": "H6jrNPXM_FJH"
      },
      "execution_count": null,
      "outputs": []
    },
    {
      "cell_type": "code",
      "source": [
        "x = get_s_by_threshold(freqs, train_x, train_y)"
      ],
      "metadata": {
        "id": "3icKz3p1_SJN"
      },
      "execution_count": null,
      "outputs": []
    },
    {
      "cell_type": "code",
      "source": [
        "data=x\n",
        "data"
      ],
      "metadata": {
        "colab": {
          "base_uri": "https://localhost:8080/",
          "height": 423
        },
        "id": "QHoco8-HZ_kO",
        "outputId": "36bf2c61-855a-4134-d30f-46c85f606b1d"
      },
      "execution_count": null,
      "outputs": [
        {
          "output_type": "execute_result",
          "data": {
            "text/plain": [
              "           p_w_pos      p_w_neg  sentiment\n",
              "0      -480.629424  -474.873483          1\n",
              "1      -310.324194  -309.599434          1\n",
              "2      -598.829698  -593.233241          1\n",
              "3      -129.295313  -131.544792          1\n",
              "4      -223.775118  -225.014340          1\n",
              "...            ...          ...        ...\n",
              "39995  -776.782084  -766.260852          0\n",
              "39996 -1059.275082 -1042.153756          0\n",
              "39997  -754.998118  -724.962636          0\n",
              "39998 -2020.497460 -2005.834503          0\n",
              "39999  -598.635388  -567.514067          0\n",
              "\n",
              "[40000 rows x 3 columns]"
            ],
            "text/html": [
              "\n",
              "  <div id=\"df-d1869d13-be56-487b-ab54-cd455d28161b\" class=\"colab-df-container\">\n",
              "    <div>\n",
              "<style scoped>\n",
              "    .dataframe tbody tr th:only-of-type {\n",
              "        vertical-align: middle;\n",
              "    }\n",
              "\n",
              "    .dataframe tbody tr th {\n",
              "        vertical-align: top;\n",
              "    }\n",
              "\n",
              "    .dataframe thead th {\n",
              "        text-align: right;\n",
              "    }\n",
              "</style>\n",
              "<table border=\"1\" class=\"dataframe\">\n",
              "  <thead>\n",
              "    <tr style=\"text-align: right;\">\n",
              "      <th></th>\n",
              "      <th>p_w_pos</th>\n",
              "      <th>p_w_neg</th>\n",
              "      <th>sentiment</th>\n",
              "    </tr>\n",
              "  </thead>\n",
              "  <tbody>\n",
              "    <tr>\n",
              "      <th>0</th>\n",
              "      <td>-480.629424</td>\n",
              "      <td>-474.873483</td>\n",
              "      <td>1</td>\n",
              "    </tr>\n",
              "    <tr>\n",
              "      <th>1</th>\n",
              "      <td>-310.324194</td>\n",
              "      <td>-309.599434</td>\n",
              "      <td>1</td>\n",
              "    </tr>\n",
              "    <tr>\n",
              "      <th>2</th>\n",
              "      <td>-598.829698</td>\n",
              "      <td>-593.233241</td>\n",
              "      <td>1</td>\n",
              "    </tr>\n",
              "    <tr>\n",
              "      <th>3</th>\n",
              "      <td>-129.295313</td>\n",
              "      <td>-131.544792</td>\n",
              "      <td>1</td>\n",
              "    </tr>\n",
              "    <tr>\n",
              "      <th>4</th>\n",
              "      <td>-223.775118</td>\n",
              "      <td>-225.014340</td>\n",
              "      <td>1</td>\n",
              "    </tr>\n",
              "    <tr>\n",
              "      <th>...</th>\n",
              "      <td>...</td>\n",
              "      <td>...</td>\n",
              "      <td>...</td>\n",
              "    </tr>\n",
              "    <tr>\n",
              "      <th>39995</th>\n",
              "      <td>-776.782084</td>\n",
              "      <td>-766.260852</td>\n",
              "      <td>0</td>\n",
              "    </tr>\n",
              "    <tr>\n",
              "      <th>39996</th>\n",
              "      <td>-1059.275082</td>\n",
              "      <td>-1042.153756</td>\n",
              "      <td>0</td>\n",
              "    </tr>\n",
              "    <tr>\n",
              "      <th>39997</th>\n",
              "      <td>-754.998118</td>\n",
              "      <td>-724.962636</td>\n",
              "      <td>0</td>\n",
              "    </tr>\n",
              "    <tr>\n",
              "      <th>39998</th>\n",
              "      <td>-2020.497460</td>\n",
              "      <td>-2005.834503</td>\n",
              "      <td>0</td>\n",
              "    </tr>\n",
              "    <tr>\n",
              "      <th>39999</th>\n",
              "      <td>-598.635388</td>\n",
              "      <td>-567.514067</td>\n",
              "      <td>0</td>\n",
              "    </tr>\n",
              "  </tbody>\n",
              "</table>\n",
              "<p>40000 rows × 3 columns</p>\n",
              "</div>\n",
              "    <div class=\"colab-df-buttons\">\n",
              "\n",
              "  <div class=\"colab-df-container\">\n",
              "    <button class=\"colab-df-convert\" onclick=\"convertToInteractive('df-d1869d13-be56-487b-ab54-cd455d28161b')\"\n",
              "            title=\"Convert this dataframe to an interactive table.\"\n",
              "            style=\"display:none;\">\n",
              "\n",
              "  <svg xmlns=\"http://www.w3.org/2000/svg\" height=\"24px\" viewBox=\"0 -960 960 960\">\n",
              "    <path d=\"M120-120v-720h720v720H120Zm60-500h600v-160H180v160Zm220 220h160v-160H400v160Zm0 220h160v-160H400v160ZM180-400h160v-160H180v160Zm440 0h160v-160H620v160ZM180-180h160v-160H180v160Zm440 0h160v-160H620v160Z\"/>\n",
              "  </svg>\n",
              "    </button>\n",
              "\n",
              "  <style>\n",
              "    .colab-df-container {\n",
              "      display:flex;\n",
              "      gap: 12px;\n",
              "    }\n",
              "\n",
              "    .colab-df-convert {\n",
              "      background-color: #E8F0FE;\n",
              "      border: none;\n",
              "      border-radius: 50%;\n",
              "      cursor: pointer;\n",
              "      display: none;\n",
              "      fill: #1967D2;\n",
              "      height: 32px;\n",
              "      padding: 0 0 0 0;\n",
              "      width: 32px;\n",
              "    }\n",
              "\n",
              "    .colab-df-convert:hover {\n",
              "      background-color: #E2EBFA;\n",
              "      box-shadow: 0px 1px 2px rgba(60, 64, 67, 0.3), 0px 1px 3px 1px rgba(60, 64, 67, 0.15);\n",
              "      fill: #174EA6;\n",
              "    }\n",
              "\n",
              "    .colab-df-buttons div {\n",
              "      margin-bottom: 4px;\n",
              "    }\n",
              "\n",
              "    [theme=dark] .colab-df-convert {\n",
              "      background-color: #3B4455;\n",
              "      fill: #D2E3FC;\n",
              "    }\n",
              "\n",
              "    [theme=dark] .colab-df-convert:hover {\n",
              "      background-color: #434B5C;\n",
              "      box-shadow: 0px 1px 3px 1px rgba(0, 0, 0, 0.15);\n",
              "      filter: drop-shadow(0px 1px 2px rgba(0, 0, 0, 0.3));\n",
              "      fill: #FFFFFF;\n",
              "    }\n",
              "  </style>\n",
              "\n",
              "    <script>\n",
              "      const buttonEl =\n",
              "        document.querySelector('#df-d1869d13-be56-487b-ab54-cd455d28161b button.colab-df-convert');\n",
              "      buttonEl.style.display =\n",
              "        google.colab.kernel.accessAllowed ? 'block' : 'none';\n",
              "\n",
              "      async function convertToInteractive(key) {\n",
              "        const element = document.querySelector('#df-d1869d13-be56-487b-ab54-cd455d28161b');\n",
              "        const dataTable =\n",
              "          await google.colab.kernel.invokeFunction('convertToInteractive',\n",
              "                                                    [key], {});\n",
              "        if (!dataTable) return;\n",
              "\n",
              "        const docLinkHtml = 'Like what you see? Visit the ' +\n",
              "          '<a target=\"_blank\" href=https://colab.research.google.com/notebooks/data_table.ipynb>data table notebook</a>'\n",
              "          + ' to learn more about interactive tables.';\n",
              "        element.innerHTML = '';\n",
              "        dataTable['output_type'] = 'display_data';\n",
              "        await google.colab.output.renderOutput(dataTable, element);\n",
              "        const docLink = document.createElement('div');\n",
              "        docLink.innerHTML = docLinkHtml;\n",
              "        element.appendChild(docLink);\n",
              "      }\n",
              "    </script>\n",
              "  </div>\n",
              "\n",
              "\n",
              "<div id=\"df-21992e49-52a2-4d05-86d3-e322e1420079\">\n",
              "  <button class=\"colab-df-quickchart\" onclick=\"quickchart('df-21992e49-52a2-4d05-86d3-e322e1420079')\"\n",
              "            title=\"Suggest charts\"\n",
              "            style=\"display:none;\">\n",
              "\n",
              "<svg xmlns=\"http://www.w3.org/2000/svg\" height=\"24px\"viewBox=\"0 0 24 24\"\n",
              "     width=\"24px\">\n",
              "    <g>\n",
              "        <path d=\"M19 3H5c-1.1 0-2 .9-2 2v14c0 1.1.9 2 2 2h14c1.1 0 2-.9 2-2V5c0-1.1-.9-2-2-2zM9 17H7v-7h2v7zm4 0h-2V7h2v10zm4 0h-2v-4h2v4z\"/>\n",
              "    </g>\n",
              "</svg>\n",
              "  </button>\n",
              "\n",
              "<style>\n",
              "  .colab-df-quickchart {\n",
              "      --bg-color: #E8F0FE;\n",
              "      --fill-color: #1967D2;\n",
              "      --hover-bg-color: #E2EBFA;\n",
              "      --hover-fill-color: #174EA6;\n",
              "      --disabled-fill-color: #AAA;\n",
              "      --disabled-bg-color: #DDD;\n",
              "  }\n",
              "\n",
              "  [theme=dark] .colab-df-quickchart {\n",
              "      --bg-color: #3B4455;\n",
              "      --fill-color: #D2E3FC;\n",
              "      --hover-bg-color: #434B5C;\n",
              "      --hover-fill-color: #FFFFFF;\n",
              "      --disabled-bg-color: #3B4455;\n",
              "      --disabled-fill-color: #666;\n",
              "  }\n",
              "\n",
              "  .colab-df-quickchart {\n",
              "    background-color: var(--bg-color);\n",
              "    border: none;\n",
              "    border-radius: 50%;\n",
              "    cursor: pointer;\n",
              "    display: none;\n",
              "    fill: var(--fill-color);\n",
              "    height: 32px;\n",
              "    padding: 0;\n",
              "    width: 32px;\n",
              "  }\n",
              "\n",
              "  .colab-df-quickchart:hover {\n",
              "    background-color: var(--hover-bg-color);\n",
              "    box-shadow: 0 1px 2px rgba(60, 64, 67, 0.3), 0 1px 3px 1px rgba(60, 64, 67, 0.15);\n",
              "    fill: var(--button-hover-fill-color);\n",
              "  }\n",
              "\n",
              "  .colab-df-quickchart-complete:disabled,\n",
              "  .colab-df-quickchart-complete:disabled:hover {\n",
              "    background-color: var(--disabled-bg-color);\n",
              "    fill: var(--disabled-fill-color);\n",
              "    box-shadow: none;\n",
              "  }\n",
              "\n",
              "  .colab-df-spinner {\n",
              "    border: 2px solid var(--fill-color);\n",
              "    border-color: transparent;\n",
              "    border-bottom-color: var(--fill-color);\n",
              "    animation:\n",
              "      spin 1s steps(1) infinite;\n",
              "  }\n",
              "\n",
              "  @keyframes spin {\n",
              "    0% {\n",
              "      border-color: transparent;\n",
              "      border-bottom-color: var(--fill-color);\n",
              "      border-left-color: var(--fill-color);\n",
              "    }\n",
              "    20% {\n",
              "      border-color: transparent;\n",
              "      border-left-color: var(--fill-color);\n",
              "      border-top-color: var(--fill-color);\n",
              "    }\n",
              "    30% {\n",
              "      border-color: transparent;\n",
              "      border-left-color: var(--fill-color);\n",
              "      border-top-color: var(--fill-color);\n",
              "      border-right-color: var(--fill-color);\n",
              "    }\n",
              "    40% {\n",
              "      border-color: transparent;\n",
              "      border-right-color: var(--fill-color);\n",
              "      border-top-color: var(--fill-color);\n",
              "    }\n",
              "    60% {\n",
              "      border-color: transparent;\n",
              "      border-right-color: var(--fill-color);\n",
              "    }\n",
              "    80% {\n",
              "      border-color: transparent;\n",
              "      border-right-color: var(--fill-color);\n",
              "      border-bottom-color: var(--fill-color);\n",
              "    }\n",
              "    90% {\n",
              "      border-color: transparent;\n",
              "      border-bottom-color: var(--fill-color);\n",
              "    }\n",
              "  }\n",
              "</style>\n",
              "\n",
              "  <script>\n",
              "    async function quickchart(key) {\n",
              "      const quickchartButtonEl =\n",
              "        document.querySelector('#' + key + ' button');\n",
              "      quickchartButtonEl.disabled = true;  // To prevent multiple clicks.\n",
              "      quickchartButtonEl.classList.add('colab-df-spinner');\n",
              "      try {\n",
              "        const charts = await google.colab.kernel.invokeFunction(\n",
              "            'suggestCharts', [key], {});\n",
              "      } catch (error) {\n",
              "        console.error('Error during call to suggestCharts:', error);\n",
              "      }\n",
              "      quickchartButtonEl.classList.remove('colab-df-spinner');\n",
              "      quickchartButtonEl.classList.add('colab-df-quickchart-complete');\n",
              "    }\n",
              "    (() => {\n",
              "      let quickchartButtonEl =\n",
              "        document.querySelector('#df-21992e49-52a2-4d05-86d3-e322e1420079 button');\n",
              "      quickchartButtonEl.style.display =\n",
              "        google.colab.kernel.accessAllowed ? 'block' : 'none';\n",
              "    })();\n",
              "  </script>\n",
              "</div>\n",
              "    </div>\n",
              "  </div>\n"
            ]
          },
          "metadata": {},
          "execution_count": 88
        }
      ]
    },
    {
      "cell_type": "code",
      "source": [
        "import pandas as pd # Dataframe library\n",
        "\n",
        "import matplotlib.pyplot as plt # Library for plots"
      ],
      "metadata": {
        "id": "9j0uEpmga8Q9"
      },
      "execution_count": null,
      "outputs": []
    },
    {
      "cell_type": "code",
      "source": [
        "import matplotlib.pyplot as plt\n",
        "import pandas as pd\n",
        "\n",
        "fig, ax = plt.subplots(figsize = (8, 8))\n",
        "\n",
        "colors = ['green', 'red']\n",
        "sentiments = ['p_w_neg', 'p_w_pos']\n",
        "\n",
        "index = data.index\n",
        "\n",
        "for sentiment in data.sentiment.unique():\n",
        "    ix = index[data.sentiment == sentiment]\n",
        "    ax.scatter(data.iloc[ix].p_w_pos, data.iloc[ix].p_w_neg, c=colors[int(sentiment)], s=0.1, marker='*', label=sentiments[int(sentiment)])\n",
        "\n",
        "ax.legend(loc='best')\n",
        "\n",
        "plt.xlim(-7000,0)\n",
        "plt.ylim(-7000,0)\n",
        "\n",
        "plt.xlabel(\"Positive\")\n",
        "plt.ylabel(\"Negative\")\n",
        "plt.show()\n"
      ],
      "metadata": {
        "colab": {
          "base_uri": "https://localhost:8080/",
          "height": 701
        },
        "id": "1KDTrocndxF1",
        "outputId": "1c169cc6-134a-4e9a-fab3-0d2e7608fa49"
      },
      "execution_count": null,
      "outputs": [
        {
          "output_type": "display_data",
          "data": {
            "text/plain": [
              "<Figure size 800x800 with 1 Axes>"
            ],
            "image/png": "[encoded data removed]"
          },
          "metadata": {}
        }
      ]
    }
  ]
}